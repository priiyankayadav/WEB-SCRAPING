{
 "cells": [
  {
   "cell_type": "markdown",
   "id": "059f6673",
   "metadata": {},
   "source": [
    "#                    WEB SCRAPING ASSIGNMENT - SELENIUM"
   ]
  },
  {
   "cell_type": "markdown",
   "id": "c01f6311",
   "metadata": {},
   "source": [
    "# Q1: Write a python program to scrape data for “Data Analyst” Job position in “Bangalore” location. You have to scrape the job-title, job-location, company_name, experience_required. You have to scrape first 10 jobs data."
   ]
  },
  {
   "cell_type": "code",
   "execution_count": 2,
   "id": "b6e7f208",
   "metadata": {},
   "outputs": [
    {
     "name": "stdout",
     "output_type": "stream",
     "text": [
      "Requirement already satisfied: selenium in c:\\programdata\\anaconda3\\lib\\site-packages (4.0.0)\n",
      "Requirement already satisfied: trio~=0.17 in c:\\programdata\\anaconda3\\lib\\site-packages (from selenium) (0.19.0)\n",
      "Requirement already satisfied: urllib3[secure]~=1.26 in c:\\programdata\\anaconda3\\lib\\site-packages (from selenium) (1.26.4)\n",
      "Requirement already satisfied: trio-websocket~=0.9 in c:\\programdata\\anaconda3\\lib\\site-packages (from selenium) (0.9.2)\n",
      "Requirement already satisfied: outcome in c:\\programdata\\anaconda3\\lib\\site-packages (from trio~=0.17->selenium) (1.1.0)\n",
      "Requirement already satisfied: sniffio in c:\\programdata\\anaconda3\\lib\\site-packages (from trio~=0.17->selenium) (1.2.0)\n",
      "Requirement already satisfied: attrs>=19.2.0 in c:\\programdata\\anaconda3\\lib\\site-packages (from trio~=0.17->selenium) (20.3.0)\n",
      "Requirement already satisfied: cffi>=1.14 in c:\\programdata\\anaconda3\\lib\\site-packages (from trio~=0.17->selenium) (1.14.5)\n",
      "Requirement already satisfied: async-generator>=1.9 in c:\\programdata\\anaconda3\\lib\\site-packages (from trio~=0.17->selenium) (1.10)\n",
      "Requirement already satisfied: idna in c:\\programdata\\anaconda3\\lib\\site-packages (from trio~=0.17->selenium) (2.10)\n",
      "Requirement already satisfied: sortedcontainers in c:\\programdata\\anaconda3\\lib\\site-packages (from trio~=0.17->selenium) (2.3.0)\n",
      "Requirement already satisfied: pycparser in c:\\programdata\\anaconda3\\lib\\site-packages (from cffi>=1.14->trio~=0.17->selenium) (2.20)\n",
      "Requirement already satisfied: wsproto>=0.14 in c:\\programdata\\anaconda3\\lib\\site-packages (from trio-websocket~=0.9->selenium) (1.0.0)\n",
      "Requirement already satisfied: certifi in c:\\programdata\\anaconda3\\lib\\site-packages (from urllib3[secure]~=1.26->selenium) (2020.12.5)\n",
      "Requirement already satisfied: pyOpenSSL>=0.14 in c:\\programdata\\anaconda3\\lib\\site-packages (from urllib3[secure]~=1.26->selenium) (20.0.1)\n",
      "Requirement already satisfied: cryptography>=1.3.4 in c:\\programdata\\anaconda3\\lib\\site-packages (from urllib3[secure]~=1.26->selenium) (3.4.7)\n",
      "Requirement already satisfied: six>=1.5.2 in c:\\programdata\\anaconda3\\lib\\site-packages (from pyOpenSSL>=0.14->urllib3[secure]~=1.26->selenium) (1.15.0)\n",
      "Requirement already satisfied: h11<1,>=0.9.0 in c:\\programdata\\anaconda3\\lib\\site-packages (from wsproto>=0.14->trio-websocket~=0.9->selenium) (0.12.0)\n"
     ]
    }
   ],
   "source": [
    "! pip install selenium"
   ]
  },
  {
   "cell_type": "code",
   "execution_count": 3,
   "id": "3300570a",
   "metadata": {},
   "outputs": [],
   "source": [
    "import selenium\n",
    "import pandas as pd\n",
    "from selenium import webdriver\n",
    "import time"
   ]
  },
  {
   "cell_type": "code",
   "execution_count": 8,
   "id": "7128a897",
   "metadata": {},
   "outputs": [
    {
     "name": "stderr",
     "output_type": "stream",
     "text": [
      "<ipython-input-8-2478a8c83437>:2: DeprecationWarning: executable_path has been deprecated, please pass in a Service object\n",
      "  driver = webdriver.Chrome(r'C:\\Users\\Administrator\\Downloads\\chromedriver_win32\\chromedriver.exe')\n"
     ]
    }
   ],
   "source": [
    "#Connecting to web driver\n",
    "driver = webdriver.Chrome(r'C:\\Users\\Administrator\\Downloads\\chromedriver_win32\\chromedriver.exe')"
   ]
  },
  {
   "cell_type": "code",
   "execution_count": 9,
   "id": "fa2a8d35",
   "metadata": {},
   "outputs": [],
   "source": [
    "driver.get(\"https://www.naukri.com\")"
   ]
  },
  {
   "cell_type": "code",
   "execution_count": 10,
   "id": "b9df6380",
   "metadata": {},
   "outputs": [
    {
     "name": "stderr",
     "output_type": "stream",
     "text": [
      "<ipython-input-10-5e40fdfb9068>:1: DeprecationWarning: find_element_by_* commands are deprecated. Please use find_element() instead\n",
      "  search_job = driver.find_element_by_id(\"qsb-keyword-sugg\")\n"
     ]
    }
   ],
   "source": [
    "search_job = driver.find_element_by_id(\"qsb-keyword-sugg\")"
   ]
  },
  {
   "cell_type": "code",
   "execution_count": 11,
   "id": "70a61547",
   "metadata": {},
   "outputs": [],
   "source": [
    "search_job.send_keys(\"Data Analyst\")"
   ]
  },
  {
   "cell_type": "code",
   "execution_count": 12,
   "id": "f8ddee6c",
   "metadata": {},
   "outputs": [
    {
     "name": "stderr",
     "output_type": "stream",
     "text": [
      "<ipython-input-12-830592030f82>:1: DeprecationWarning: find_element_by_* commands are deprecated. Please use find_element() instead\n",
      "  search_loc = driver.find_element_by_id(\"qsb-location-sugg\")\n"
     ]
    }
   ],
   "source": [
    "search_loc = driver.find_element_by_id(\"qsb-location-sugg\")"
   ]
  },
  {
   "cell_type": "code",
   "execution_count": 13,
   "id": "3893af72",
   "metadata": {},
   "outputs": [],
   "source": [
    "search_loc.send_keys(\"Bangalore\")"
   ]
  },
  {
   "cell_type": "code",
   "execution_count": 14,
   "id": "24ec86a1",
   "metadata": {},
   "outputs": [
    {
     "name": "stderr",
     "output_type": "stream",
     "text": [
      "<ipython-input-14-c9b437d84350>:1: DeprecationWarning: find_element_by_* commands are deprecated. Please use find_element() instead\n",
      "  search_btn = driver.find_element_by_xpath(\"//div[@class='search-btn']/button\")\n"
     ]
    }
   ],
   "source": [
    "search_btn = driver.find_element_by_xpath(\"//div[@class='search-btn']/button\")\n",
    "search_btn.click()"
   ]
  },
  {
   "cell_type": "code",
   "execution_count": 15,
   "id": "be8d408a",
   "metadata": {},
   "outputs": [],
   "source": [
    "#url of the webpage to be scraped\n",
    "url = \"https://www.naukri.com/data-analyst-jobs-in-bangalore?k=data%20analyst&l=bangalore\""
   ]
  },
  {
   "cell_type": "code",
   "execution_count": 16,
   "id": "ba58b9c8",
   "metadata": {},
   "outputs": [],
   "source": [
    "driver.get(url)"
   ]
  },
  {
   "cell_type": "code",
   "execution_count": 17,
   "id": "a22575e5",
   "metadata": {},
   "outputs": [],
   "source": [
    "#List for storing information\n",
    "job_title = []\n",
    "comp_name = []\n",
    "loca = []\n",
    "exp = []"
   ]
  },
  {
   "cell_type": "code",
   "execution_count": 18,
   "id": "a23dd296",
   "metadata": {},
   "outputs": [
    {
     "name": "stderr",
     "output_type": "stream",
     "text": [
      "<ipython-input-18-6193b2deb86f>:2: DeprecationWarning: find_elements_by_* commands are deprecated. Please use find_elements() instead\n",
      "  t_t = driver.find_elements_by_xpath(\"//a[@class = 'title fw500 ellipsis']\")\n"
     ]
    }
   ],
   "source": [
    "#Extracting job title\n",
    "t_t = driver.find_elements_by_xpath(\"//a[@class = 'title fw500 ellipsis']\")"
   ]
  },
  {
   "cell_type": "code",
   "execution_count": 19,
   "id": "0d851260",
   "metadata": {},
   "outputs": [
    {
     "data": {
      "text/plain": [
       "['Business Data Analyst - Database Design/Mining',\n",
       " 'Data Analyst',\n",
       " 'Data Analyst',\n",
       " 'Data Analyst']"
      ]
     },
     "execution_count": 19,
     "metadata": {},
     "output_type": "execute_result"
    }
   ],
   "source": [
    "for i in t_t:\n",
    "    title = i.text\n",
    "    job_title.append(title)\n",
    "job_title[0:4]"
   ]
  },
  {
   "cell_type": "code",
   "execution_count": 20,
   "id": "ebf0707b",
   "metadata": {},
   "outputs": [
    {
     "name": "stderr",
     "output_type": "stream",
     "text": [
      "<ipython-input-20-93b61aaa02e5>:2: DeprecationWarning: find_elements_by_* commands are deprecated. Please use find_elements() instead\n",
      "  c_n = driver.find_elements_by_xpath(\"//a[@class = 'subTitle ellipsis fleft']\")\n"
     ]
    }
   ],
   "source": [
    "#Extracting company name\n",
    "c_n = driver.find_elements_by_xpath(\"//a[@class = 'subTitle ellipsis fleft']\")"
   ]
  },
  {
   "cell_type": "code",
   "execution_count": 21,
   "id": "1a9107af",
   "metadata": {},
   "outputs": [
    {
     "data": {
      "text/plain": [
       "['AugmatrixGo', 'Applied Materials', 'Shell', 'Shell']"
      ]
     },
     "execution_count": 21,
     "metadata": {},
     "output_type": "execute_result"
    }
   ],
   "source": [
    "for i in c_n:\n",
    "    names = i.text\n",
    "    comp_name.append(names)\n",
    "comp_name[0:4]"
   ]
  },
  {
   "cell_type": "code",
   "execution_count": 22,
   "id": "70762393",
   "metadata": {},
   "outputs": [
    {
     "name": "stderr",
     "output_type": "stream",
     "text": [
      "<ipython-input-22-fa9c87cff84b>:2: DeprecationWarning: find_elements_by_* commands are deprecated. Please use find_elements() instead\n",
      "  l_n = driver.find_elements_by_xpath(\"//li[@class = 'fleft grey-text br2 placeHolderLi location']/span[1]\")\n"
     ]
    }
   ],
   "source": [
    "#Extracting location\n",
    "l_n = driver.find_elements_by_xpath(\"//li[@class = 'fleft grey-text br2 placeHolderLi location']/span[1]\")"
   ]
  },
  {
   "cell_type": "code",
   "execution_count": 23,
   "id": "95699790",
   "metadata": {},
   "outputs": [
    {
     "data": {
      "text/plain": [
       "['Bangalore/Bengaluru',\n",
       " 'Bangalore/Bengaluru',\n",
       " 'Bangalore/Bengaluru',\n",
       " 'Bangalore/Bengaluru']"
      ]
     },
     "execution_count": 23,
     "metadata": {},
     "output_type": "execute_result"
    }
   ],
   "source": [
    "for i in l_n:\n",
    "    locations = i.text\n",
    "    loca.append(locations)\n",
    "loca[0:4]"
   ]
  },
  {
   "cell_type": "code",
   "execution_count": 24,
   "id": "d5b15c2c",
   "metadata": {},
   "outputs": [
    {
     "name": "stderr",
     "output_type": "stream",
     "text": [
      "<ipython-input-24-0e3c5ffc4231>:2: DeprecationWarning: find_elements_by_* commands are deprecated. Please use find_elements() instead\n",
      "  e_r = driver.find_elements_by_xpath(\"//li[@class='fleft grey-text br2 placeHolderLi experience']/span[1]\")\n"
     ]
    }
   ],
   "source": [
    "#Extracting company name\n",
    "e_r = driver.find_elements_by_xpath(\"//li[@class='fleft grey-text br2 placeHolderLi experience']/span[1]\")"
   ]
  },
  {
   "cell_type": "code",
   "execution_count": 25,
   "id": "16e53f87",
   "metadata": {},
   "outputs": [
    {
     "data": {
      "text/plain": [
       "['2-5 Yrs', '0-3 Yrs', '5-8 Yrs', '5-10 Yrs']"
      ]
     },
     "execution_count": 25,
     "metadata": {},
     "output_type": "execute_result"
    }
   ],
   "source": [
    "for i in e_r:\n",
    "    expe = i.text\n",
    "    exp.append(expe)\n",
    "exp[0:4]"
   ]
  },
  {
   "cell_type": "code",
   "execution_count": 26,
   "id": "691f9220",
   "metadata": {},
   "outputs": [
    {
     "name": "stdout",
     "output_type": "stream",
     "text": [
      "20 20 20 20\n"
     ]
    }
   ],
   "source": [
    "#Checking lengths of all four lists\n",
    "print(len(t_t),len(c_n),len(l_n),len(e_r))"
   ]
  },
  {
   "cell_type": "code",
   "execution_count": 27,
   "id": "fcdf2890",
   "metadata": {},
   "outputs": [],
   "source": [
    "#Creating and storing data in a dataframe\n",
    "naukri = pd.DataFrame({})\n",
    "naukri['Title']=job_title\n",
    "naukri['Company Name']=comp_name\n",
    "naukri['Locations']=loca\n",
    "naukri['Experience Required']= exp"
   ]
  },
  {
   "cell_type": "code",
   "execution_count": 28,
   "id": "826c8804",
   "metadata": {},
   "outputs": [
    {
     "data": {
      "text/html": [
       "<div>\n",
       "<style scoped>\n",
       "    .dataframe tbody tr th:only-of-type {\n",
       "        vertical-align: middle;\n",
       "    }\n",
       "\n",
       "    .dataframe tbody tr th {\n",
       "        vertical-align: top;\n",
       "    }\n",
       "\n",
       "    .dataframe thead th {\n",
       "        text-align: right;\n",
       "    }\n",
       "</style>\n",
       "<table border=\"1\" class=\"dataframe\">\n",
       "  <thead>\n",
       "    <tr style=\"text-align: right;\">\n",
       "      <th></th>\n",
       "      <th>Title</th>\n",
       "      <th>Company Name</th>\n",
       "      <th>Locations</th>\n",
       "      <th>Experience Required</th>\n",
       "    </tr>\n",
       "  </thead>\n",
       "  <tbody>\n",
       "    <tr>\n",
       "      <th>0</th>\n",
       "      <td>Business Data Analyst - Database Design/Mining</td>\n",
       "      <td>AugmatrixGo</td>\n",
       "      <td>Bangalore/Bengaluru</td>\n",
       "      <td>2-5 Yrs</td>\n",
       "    </tr>\n",
       "    <tr>\n",
       "      <th>1</th>\n",
       "      <td>Data Analyst</td>\n",
       "      <td>Applied Materials</td>\n",
       "      <td>Bangalore/Bengaluru</td>\n",
       "      <td>0-3 Yrs</td>\n",
       "    </tr>\n",
       "    <tr>\n",
       "      <th>2</th>\n",
       "      <td>Data Analyst</td>\n",
       "      <td>Shell</td>\n",
       "      <td>Bangalore/Bengaluru</td>\n",
       "      <td>5-8 Yrs</td>\n",
       "    </tr>\n",
       "    <tr>\n",
       "      <th>3</th>\n",
       "      <td>Data Analyst</td>\n",
       "      <td>Shell</td>\n",
       "      <td>Bangalore/Bengaluru</td>\n",
       "      <td>5-10 Yrs</td>\n",
       "    </tr>\n",
       "    <tr>\n",
       "      <th>4</th>\n",
       "      <td>Senior Data Analyst</td>\n",
       "      <td>Utthunga Technologies Pvt Ltd</td>\n",
       "      <td>Bangalore/Bengaluru</td>\n",
       "      <td>3-4 Yrs</td>\n",
       "    </tr>\n",
       "    <tr>\n",
       "      <th>5</th>\n",
       "      <td>Sr Business Data Analyst</td>\n",
       "      <td>ExecBoardinAsia</td>\n",
       "      <td>Bangalore/Bengaluru</td>\n",
       "      <td>5-10 Yrs</td>\n",
       "    </tr>\n",
       "    <tr>\n",
       "      <th>6</th>\n",
       "      <td>Business Data Analyst - MIS &amp; Reporting</td>\n",
       "      <td>INTERTRUST GROUP</td>\n",
       "      <td>Mumbai, Bangalore/Bengaluru</td>\n",
       "      <td>3-8 Yrs</td>\n",
       "    </tr>\n",
       "    <tr>\n",
       "      <th>7</th>\n",
       "      <td>Business Data Analyst</td>\n",
       "      <td>NetApp</td>\n",
       "      <td>Bangalore/Bengaluru</td>\n",
       "      <td>5-10 Yrs</td>\n",
       "    </tr>\n",
       "    <tr>\n",
       "      <th>8</th>\n",
       "      <td>Senior Data Analyst - SQL/Tableau/Redshift</td>\n",
       "      <td>Pronto Consulting Services</td>\n",
       "      <td>Noida, Mumbai, Indore, Hyderabad/Secunderabad,...</td>\n",
       "      <td>6-10 Yrs</td>\n",
       "    </tr>\n",
       "    <tr>\n",
       "      <th>9</th>\n",
       "      <td>Power BI - Data Analyst - Biocon Biologics</td>\n",
       "      <td>BIOCON BIOLOGICS LIMITED</td>\n",
       "      <td>Bangalore/Bengaluru</td>\n",
       "      <td>3-8 Yrs</td>\n",
       "    </tr>\n",
       "  </tbody>\n",
       "</table>\n",
       "</div>"
      ],
      "text/plain": [
       "                                            Title  \\\n",
       "0  Business Data Analyst - Database Design/Mining   \n",
       "1                                    Data Analyst   \n",
       "2                                    Data Analyst   \n",
       "3                                    Data Analyst   \n",
       "4                             Senior Data Analyst   \n",
       "5                        Sr Business Data Analyst   \n",
       "6         Business Data Analyst - MIS & Reporting   \n",
       "7                           Business Data Analyst   \n",
       "8      Senior Data Analyst - SQL/Tableau/Redshift   \n",
       "9      Power BI - Data Analyst - Biocon Biologics   \n",
       "\n",
       "                    Company Name  \\\n",
       "0                    AugmatrixGo   \n",
       "1              Applied Materials   \n",
       "2                          Shell   \n",
       "3                          Shell   \n",
       "4  Utthunga Technologies Pvt Ltd   \n",
       "5                ExecBoardinAsia   \n",
       "6               INTERTRUST GROUP   \n",
       "7                         NetApp   \n",
       "8     Pronto Consulting Services   \n",
       "9       BIOCON BIOLOGICS LIMITED   \n",
       "\n",
       "                                           Locations Experience Required  \n",
       "0                                Bangalore/Bengaluru             2-5 Yrs  \n",
       "1                                Bangalore/Bengaluru             0-3 Yrs  \n",
       "2                                Bangalore/Bengaluru             5-8 Yrs  \n",
       "3                                Bangalore/Bengaluru            5-10 Yrs  \n",
       "4                                Bangalore/Bengaluru             3-4 Yrs  \n",
       "5                                Bangalore/Bengaluru            5-10 Yrs  \n",
       "6                        Mumbai, Bangalore/Bengaluru             3-8 Yrs  \n",
       "7                                Bangalore/Bengaluru            5-10 Yrs  \n",
       "8  Noida, Mumbai, Indore, Hyderabad/Secunderabad,...            6-10 Yrs  \n",
       "9                                Bangalore/Bengaluru             3-8 Yrs  "
      ]
     },
     "execution_count": 28,
     "metadata": {},
     "output_type": "execute_result"
    }
   ],
   "source": [
    "naukri.head(10)"
   ]
  },
  {
   "cell_type": "markdown",
   "id": "c7ab13f1",
   "metadata": {},
   "source": [
    "# Q2: Write a python program to scrape data for “Data Scientist” Job position in “Bangalore” location. You have to scrape the job-title, job-location, company_name. You have to scrape first 10 jobs data."
   ]
  },
  {
   "cell_type": "code",
   "execution_count": 30,
   "id": "3886f719",
   "metadata": {},
   "outputs": [
    {
     "name": "stderr",
     "output_type": "stream",
     "text": [
      "<ipython-input-30-2478a8c83437>:2: DeprecationWarning: executable_path has been deprecated, please pass in a Service object\n",
      "  driver = webdriver.Chrome(r'C:\\Users\\Administrator\\Downloads\\chromedriver_win32\\chromedriver.exe')\n"
     ]
    }
   ],
   "source": [
    "#Connecting to web driver\n",
    "driver = webdriver.Chrome(r'C:\\Users\\Administrator\\Downloads\\chromedriver_win32\\chromedriver.exe')"
   ]
  },
  {
   "cell_type": "code",
   "execution_count": 31,
   "id": "2eec945a",
   "metadata": {},
   "outputs": [],
   "source": [
    "driver.get(\"https://www.naukri.com\")"
   ]
  },
  {
   "cell_type": "code",
   "execution_count": 32,
   "id": "b5820c49",
   "metadata": {},
   "outputs": [
    {
     "name": "stderr",
     "output_type": "stream",
     "text": [
      "<ipython-input-32-d1a7c56bf098>:1: DeprecationWarning: find_element_by_* commands are deprecated. Please use find_element() instead\n",
      "  search_job = driver.find_element_by_id(\"qsb-keyword-sugg\")\n",
      "<ipython-input-32-d1a7c56bf098>:3: DeprecationWarning: find_element_by_* commands are deprecated. Please use find_element() instead\n",
      "  search_loc = driver.find_element_by_id(\"qsb-location-sugg\")\n"
     ]
    }
   ],
   "source": [
    "search_job = driver.find_element_by_id(\"qsb-keyword-sugg\")\n",
    "search_job.send_keys(\"Data Scientist\")\n",
    "search_loc = driver.find_element_by_id(\"qsb-location-sugg\")\n",
    "search_loc.send_keys(\"Bangalore\")"
   ]
  },
  {
   "cell_type": "code",
   "execution_count": 33,
   "id": "38344b36",
   "metadata": {},
   "outputs": [
    {
     "name": "stderr",
     "output_type": "stream",
     "text": [
      "<ipython-input-33-c9b437d84350>:1: DeprecationWarning: find_element_by_* commands are deprecated. Please use find_element() instead\n",
      "  search_btn = driver.find_element_by_xpath(\"//div[@class='search-btn']/button\")\n"
     ]
    }
   ],
   "source": [
    "search_btn = driver.find_element_by_xpath(\"//div[@class='search-btn']/button\")\n",
    "search_btn.click()"
   ]
  },
  {
   "cell_type": "code",
   "execution_count": 34,
   "id": "bfdc5698",
   "metadata": {},
   "outputs": [],
   "source": [
    "#url of the webpage to be scraped\n",
    "url = \"https://www.naukri.com/data-scientist-jobs-in-bangalore?k=data%20scientist&l=bangalore\""
   ]
  },
  {
   "cell_type": "code",
   "execution_count": 35,
   "id": "07248569",
   "metadata": {},
   "outputs": [],
   "source": [
    "driver.get(url)"
   ]
  },
  {
   "cell_type": "code",
   "execution_count": 36,
   "id": "93afc043",
   "metadata": {},
   "outputs": [],
   "source": [
    "#List for storing information\n",
    "job_title = []\n",
    "comp_name = []\n",
    "loca = []\n",
    "desc = []"
   ]
  },
  {
   "cell_type": "code",
   "execution_count": 37,
   "id": "949e9ea0",
   "metadata": {},
   "outputs": [
    {
     "name": "stderr",
     "output_type": "stream",
     "text": [
      "<ipython-input-37-6193b2deb86f>:2: DeprecationWarning: find_elements_by_* commands are deprecated. Please use find_elements() instead\n",
      "  t_t = driver.find_elements_by_xpath(\"//a[@class = 'title fw500 ellipsis']\")\n"
     ]
    }
   ],
   "source": [
    "#Extracting job title\n",
    "t_t = driver.find_elements_by_xpath(\"//a[@class = 'title fw500 ellipsis']\")"
   ]
  },
  {
   "cell_type": "code",
   "execution_count": 38,
   "id": "953107ff",
   "metadata": {},
   "outputs": [
    {
     "data": {
      "text/plain": [
       "['Data Scientist',\n",
       " 'Data Scientist',\n",
       " 'Senior Data Scientist | Fortune 500 Supermarket Chain',\n",
       " 'Senior Data Scientist']"
      ]
     },
     "execution_count": 38,
     "metadata": {},
     "output_type": "execute_result"
    }
   ],
   "source": [
    "for i in t_t:\n",
    "    title = i.text\n",
    "    job_title.append(title)\n",
    "job_title[0:4]"
   ]
  },
  {
   "cell_type": "code",
   "execution_count": 39,
   "id": "45797fa3",
   "metadata": {},
   "outputs": [
    {
     "name": "stderr",
     "output_type": "stream",
     "text": [
      "<ipython-input-39-93b61aaa02e5>:2: DeprecationWarning: find_elements_by_* commands are deprecated. Please use find_elements() instead\n",
      "  c_n = driver.find_elements_by_xpath(\"//a[@class = 'subTitle ellipsis fleft']\")\n"
     ]
    }
   ],
   "source": [
    "#Extracting company name\n",
    "c_n = driver.find_elements_by_xpath(\"//a[@class = 'subTitle ellipsis fleft']\")"
   ]
  },
  {
   "cell_type": "code",
   "execution_count": 40,
   "id": "6e0eb360",
   "metadata": {},
   "outputs": [
    {
     "data": {
      "text/plain": [
       "['Amazon',\n",
       " 'Alstom Transport India Ltd.',\n",
       " 'TALENT500 TECH (INDIA) PRIVATE LIMITED',\n",
       " 'Santechture']"
      ]
     },
     "execution_count": 40,
     "metadata": {},
     "output_type": "execute_result"
    }
   ],
   "source": [
    "for i in c_n:\n",
    "    names = i.text\n",
    "    comp_name.append(names)\n",
    "comp_name[0:4]"
   ]
  },
  {
   "cell_type": "code",
   "execution_count": 41,
   "id": "bea14242",
   "metadata": {},
   "outputs": [
    {
     "name": "stderr",
     "output_type": "stream",
     "text": [
      "<ipython-input-41-fa9c87cff84b>:2: DeprecationWarning: find_elements_by_* commands are deprecated. Please use find_elements() instead\n",
      "  l_n = driver.find_elements_by_xpath(\"//li[@class = 'fleft grey-text br2 placeHolderLi location']/span[1]\")\n"
     ]
    }
   ],
   "source": [
    "#Extracting location\n",
    "l_n = driver.find_elements_by_xpath(\"//li[@class = 'fleft grey-text br2 placeHolderLi location']/span[1]\")"
   ]
  },
  {
   "cell_type": "code",
   "execution_count": 42,
   "id": "ecd63442",
   "metadata": {},
   "outputs": [
    {
     "data": {
      "text/plain": [
       "['Hyderabad/Secunderabad, Pune, Bangalore/Bengaluru',\n",
       " 'Bangalore/Bengaluru',\n",
       " 'Bangalore/Bengaluru',\n",
       " 'Hyderabad/Secunderabad, Chennai, Bangalore/Bengaluru']"
      ]
     },
     "execution_count": 42,
     "metadata": {},
     "output_type": "execute_result"
    }
   ],
   "source": [
    "for i in l_n:\n",
    "    locations = i.text\n",
    "    loca.append(locations)\n",
    "loca[0:4]"
   ]
  },
  {
   "cell_type": "code",
   "execution_count": 43,
   "id": "01fee5b3",
   "metadata": {},
   "outputs": [
    {
     "name": "stderr",
     "output_type": "stream",
     "text": [
      "<ipython-input-43-b226d260fce4>:2: DeprecationWarning: find_elements_by_* commands are deprecated. Please use find_elements() instead\n",
      "  d_c = driver.find_elements_by_xpath(\"//div[@class='job-description fs12 grey-text']\")\n"
     ]
    }
   ],
   "source": [
    "#Extracting Description\n",
    "d_c = driver.find_elements_by_xpath(\"//div[@class='job-description fs12 grey-text']\")"
   ]
  },
  {
   "cell_type": "code",
   "execution_count": 44,
   "id": "618024a1",
   "metadata": {},
   "outputs": [
    {
     "data": {
      "text/plain": [
       "['Excited by using massive amounts of data to develop Machine Learning (ML) and Deep Lear...',\n",
       " 'Key accountabilities:Manage a multidisciplinary team of data engineers, data scientists...',\n",
       " 'Work Experience:~2+ years of relevant experience in advanced analytics role preferably ...',\n",
       " 'Good experience in Artificial Neural Network (ANN ), AI conversational Chatbot & needs ...']"
      ]
     },
     "execution_count": 44,
     "metadata": {},
     "output_type": "execute_result"
    }
   ],
   "source": [
    "for i in d_c:\n",
    "    des = i.text\n",
    "    desc.append(des)\n",
    "desc[0:4]"
   ]
  },
  {
   "cell_type": "code",
   "execution_count": 45,
   "id": "4f212a21",
   "metadata": {},
   "outputs": [
    {
     "name": "stdout",
     "output_type": "stream",
     "text": [
      "20 20 20 20\n"
     ]
    }
   ],
   "source": [
    "#Checking lengths of all four lists\n",
    "print(len(t_t),len(c_n),len(l_n),len(d_c))"
   ]
  },
  {
   "cell_type": "code",
   "execution_count": 46,
   "id": "a93a2267",
   "metadata": {},
   "outputs": [],
   "source": [
    "#Creating and storing data in a dataframe\n",
    "naukri = pd.DataFrame({})\n",
    "naukri['Title']=job_title\n",
    "naukri['Company Name']=comp_name\n",
    "naukri['Locations']=loca\n",
    "naukri['Description']=desc"
   ]
  },
  {
   "cell_type": "code",
   "execution_count": 47,
   "id": "3127fb46",
   "metadata": {},
   "outputs": [
    {
     "data": {
      "text/html": [
       "<div>\n",
       "<style scoped>\n",
       "    .dataframe tbody tr th:only-of-type {\n",
       "        vertical-align: middle;\n",
       "    }\n",
       "\n",
       "    .dataframe tbody tr th {\n",
       "        vertical-align: top;\n",
       "    }\n",
       "\n",
       "    .dataframe thead th {\n",
       "        text-align: right;\n",
       "    }\n",
       "</style>\n",
       "<table border=\"1\" class=\"dataframe\">\n",
       "  <thead>\n",
       "    <tr style=\"text-align: right;\">\n",
       "      <th></th>\n",
       "      <th>Title</th>\n",
       "      <th>Company Name</th>\n",
       "      <th>Locations</th>\n",
       "      <th>Description</th>\n",
       "    </tr>\n",
       "  </thead>\n",
       "  <tbody>\n",
       "    <tr>\n",
       "      <th>0</th>\n",
       "      <td>Data Scientist</td>\n",
       "      <td>Amazon</td>\n",
       "      <td>Hyderabad/Secunderabad, Pune, Bangalore/Bengaluru</td>\n",
       "      <td>Excited by using massive amounts of data to de...</td>\n",
       "    </tr>\n",
       "    <tr>\n",
       "      <th>1</th>\n",
       "      <td>Data Scientist</td>\n",
       "      <td>Alstom Transport India Ltd.</td>\n",
       "      <td>Bangalore/Bengaluru</td>\n",
       "      <td>Key accountabilities:Manage a multidisciplinar...</td>\n",
       "    </tr>\n",
       "    <tr>\n",
       "      <th>2</th>\n",
       "      <td>Senior Data Scientist | Fortune 500 Supermarke...</td>\n",
       "      <td>TALENT500 TECH (INDIA) PRIVATE LIMITED</td>\n",
       "      <td>Bangalore/Bengaluru</td>\n",
       "      <td>Work Experience:~2+ years of relevant experien...</td>\n",
       "    </tr>\n",
       "    <tr>\n",
       "      <th>3</th>\n",
       "      <td>Senior Data Scientist</td>\n",
       "      <td>Santechture</td>\n",
       "      <td>Hyderabad/Secunderabad, Chennai, Bangalore/Ben...</td>\n",
       "      <td>Good experience in Artificial Neural Network (...</td>\n",
       "    </tr>\n",
       "    <tr>\n",
       "      <th>4</th>\n",
       "      <td>Data Scientist</td>\n",
       "      <td>Evalueserve</td>\n",
       "      <td>Bangalore/Bengaluru</td>\n",
       "      <td>8 years of experience manipulating data sets a...</td>\n",
       "    </tr>\n",
       "    <tr>\n",
       "      <th>5</th>\n",
       "      <td>Hiring For AI Architect / Lead Data Scientist ...</td>\n",
       "      <td>IQVIA RDS India Pvt Ltd</td>\n",
       "      <td>Bangalore/Bengaluru</td>\n",
       "      <td>Job Skills title : AI Architect / Lead Data Sc...</td>\n",
       "    </tr>\n",
       "    <tr>\n",
       "      <th>6</th>\n",
       "      <td>Lead Data Scientist, Presales</td>\n",
       "      <td>Moveworks</td>\n",
       "      <td>Bangalore/Bengaluru</td>\n",
       "      <td>You have 3+ years experience of leading data s...</td>\n",
       "    </tr>\n",
       "    <tr>\n",
       "      <th>7</th>\n",
       "      <td>Lead Data Scientist/Lead ML Scientist</td>\n",
       "      <td>ExecBoardinAsia</td>\n",
       "      <td>Bangalore/Bengaluru</td>\n",
       "      <td>Strong hands on with Python, Machine Learning ...</td>\n",
       "    </tr>\n",
       "    <tr>\n",
       "      <th>8</th>\n",
       "      <td>Senior Data Scientist</td>\n",
       "      <td>Easy Recruit</td>\n",
       "      <td>Bangalore/Bengaluru</td>\n",
       "      <td>Roles and responsibilities Enable the power of...</td>\n",
       "    </tr>\n",
       "    <tr>\n",
       "      <th>9</th>\n",
       "      <td>Senior / Lead Data Scientist</td>\n",
       "      <td>Bukuwarung</td>\n",
       "      <td>Bangalore/Bengaluru</td>\n",
       "      <td>As a Lead/Sr Data Scientist for BukuWarung, yo...</td>\n",
       "    </tr>\n",
       "  </tbody>\n",
       "</table>\n",
       "</div>"
      ],
      "text/plain": [
       "                                               Title  \\\n",
       "0                                     Data Scientist   \n",
       "1                                     Data Scientist   \n",
       "2  Senior Data Scientist | Fortune 500 Supermarke...   \n",
       "3                              Senior Data Scientist   \n",
       "4                                     Data Scientist   \n",
       "5  Hiring For AI Architect / Lead Data Scientist ...   \n",
       "6                      Lead Data Scientist, Presales   \n",
       "7              Lead Data Scientist/Lead ML Scientist   \n",
       "8                              Senior Data Scientist   \n",
       "9                       Senior / Lead Data Scientist   \n",
       "\n",
       "                             Company Name  \\\n",
       "0                                  Amazon   \n",
       "1             Alstom Transport India Ltd.   \n",
       "2  TALENT500 TECH (INDIA) PRIVATE LIMITED   \n",
       "3                             Santechture   \n",
       "4                             Evalueserve   \n",
       "5                 IQVIA RDS India Pvt Ltd   \n",
       "6                               Moveworks   \n",
       "7                         ExecBoardinAsia   \n",
       "8                            Easy Recruit   \n",
       "9                              Bukuwarung   \n",
       "\n",
       "                                           Locations  \\\n",
       "0  Hyderabad/Secunderabad, Pune, Bangalore/Bengaluru   \n",
       "1                                Bangalore/Bengaluru   \n",
       "2                                Bangalore/Bengaluru   \n",
       "3  Hyderabad/Secunderabad, Chennai, Bangalore/Ben...   \n",
       "4                                Bangalore/Bengaluru   \n",
       "5                                Bangalore/Bengaluru   \n",
       "6                                Bangalore/Bengaluru   \n",
       "7                                Bangalore/Bengaluru   \n",
       "8                                Bangalore/Bengaluru   \n",
       "9                                Bangalore/Bengaluru   \n",
       "\n",
       "                                         Description  \n",
       "0  Excited by using massive amounts of data to de...  \n",
       "1  Key accountabilities:Manage a multidisciplinar...  \n",
       "2  Work Experience:~2+ years of relevant experien...  \n",
       "3  Good experience in Artificial Neural Network (...  \n",
       "4  8 years of experience manipulating data sets a...  \n",
       "5  Job Skills title : AI Architect / Lead Data Sc...  \n",
       "6  You have 3+ years experience of leading data s...  \n",
       "7  Strong hands on with Python, Machine Learning ...  \n",
       "8  Roles and responsibilities Enable the power of...  \n",
       "9  As a Lead/Sr Data Scientist for BukuWarung, yo...  "
      ]
     },
     "execution_count": 47,
     "metadata": {},
     "output_type": "execute_result"
    }
   ],
   "source": [
    "naukri.head(10)"
   ]
  },
  {
   "cell_type": "markdown",
   "id": "8ab6b5e3",
   "metadata": {},
   "source": [
    "# Q3: In this question you have to scrape data using the filters available on the webpage as shown below: "
   ]
  },
  {
   "cell_type": "code",
   "execution_count": 48,
   "id": "bfe73dd7",
   "metadata": {},
   "outputs": [
    {
     "name": "stderr",
     "output_type": "stream",
     "text": [
      "<ipython-input-48-2478a8c83437>:2: DeprecationWarning: executable_path has been deprecated, please pass in a Service object\n",
      "  driver = webdriver.Chrome(r'C:\\Users\\Administrator\\Downloads\\chromedriver_win32\\chromedriver.exe')\n"
     ]
    }
   ],
   "source": [
    "#Connecting to web driver\n",
    "driver = webdriver.Chrome(r'C:\\Users\\Administrator\\Downloads\\chromedriver_win32\\chromedriver.exe')"
   ]
  },
  {
   "cell_type": "code",
   "execution_count": 49,
   "id": "d7fcde06",
   "metadata": {},
   "outputs": [],
   "source": [
    "driver.get(\"https://www.naukri.com\")"
   ]
  },
  {
   "cell_type": "code",
   "execution_count": 51,
   "id": "2d940c82",
   "metadata": {},
   "outputs": [
    {
     "name": "stderr",
     "output_type": "stream",
     "text": [
      "<ipython-input-51-2331cb1747a3>:1: DeprecationWarning: find_element_by_* commands are deprecated. Please use find_element() instead\n",
      "  search_job = driver.find_element_by_id(\"qsb-keyword-sugg\")\n"
     ]
    }
   ],
   "source": [
    "search_job = driver.find_element_by_id(\"qsb-keyword-sugg\")\n",
    "search_job.send_keys(\"Data Scientist\")"
   ]
  },
  {
   "cell_type": "code",
   "execution_count": 52,
   "id": "6460cec6",
   "metadata": {},
   "outputs": [
    {
     "name": "stderr",
     "output_type": "stream",
     "text": [
      "<ipython-input-52-c9b437d84350>:1: DeprecationWarning: find_element_by_* commands are deprecated. Please use find_element() instead\n",
      "  search_btn = driver.find_element_by_xpath(\"//div[@class='search-btn']/button\")\n"
     ]
    }
   ],
   "source": [
    "search_btn = driver.find_element_by_xpath(\"//div[@class='search-btn']/button\")\n",
    "search_btn.click()"
   ]
  },
  {
   "cell_type": "code",
   "execution_count": 53,
   "id": "4fac9fd9",
   "metadata": {},
   "outputs": [],
   "source": [
    "#url of the webpage to be scraped\n",
    "url = \"https://www.naukri.com/data-scientist-jobs?k=data%20scientist\""
   ]
  },
  {
   "cell_type": "code",
   "execution_count": 54,
   "id": "55f7657a",
   "metadata": {},
   "outputs": [],
   "source": [
    "driver.get(url)"
   ]
  },
  {
   "cell_type": "code",
   "execution_count": 55,
   "id": "d4b497e5",
   "metadata": {},
   "outputs": [],
   "source": [
    "#List for storing information\n",
    "job_title = []\n",
    "comp_name = []\n",
    "loca = []\n",
    "exp = []"
   ]
  },
  {
   "cell_type": "code",
   "execution_count": 56,
   "id": "d8f4c417",
   "metadata": {},
   "outputs": [
    {
     "name": "stderr",
     "output_type": "stream",
     "text": [
      "<ipython-input-56-304b97b756c4>:2: DeprecationWarning: find_element_by_* commands are deprecated. Please use find_element() instead\n",
      "  loc_btn = driver.find_element_by_xpath(\"//span[@title='Delhi / NCR']\")\n"
     ]
    }
   ],
   "source": [
    "#Location Button\n",
    "loc_btn = driver.find_element_by_xpath(\"//span[@title='Delhi / NCR']\")\n",
    "loc_btn.click()"
   ]
  },
  {
   "cell_type": "code",
   "execution_count": 57,
   "id": "3d7e8a0b",
   "metadata": {},
   "outputs": [
    {
     "name": "stderr",
     "output_type": "stream",
     "text": [
      "<ipython-input-57-c96e39964b8c>:2: DeprecationWarning: find_element_by_* commands are deprecated. Please use find_element() instead\n",
      "  sal_btn = driver.find_element_by_xpath(\"//span[@title='3-6 Lakhs']\")\n"
     ]
    }
   ],
   "source": [
    "#Salary Button\n",
    "sal_btn = driver.find_element_by_xpath(\"//span[@title='3-6 Lakhs']\")\n",
    "sal_btn.click()"
   ]
  },
  {
   "cell_type": "code",
   "execution_count": 58,
   "id": "be231fa6",
   "metadata": {},
   "outputs": [
    {
     "name": "stderr",
     "output_type": "stream",
     "text": [
      "<ipython-input-58-6193b2deb86f>:2: DeprecationWarning: find_elements_by_* commands are deprecated. Please use find_elements() instead\n",
      "  t_t = driver.find_elements_by_xpath(\"//a[@class = 'title fw500 ellipsis']\")\n"
     ]
    }
   ],
   "source": [
    "#Extracting job title\n",
    "t_t = driver.find_elements_by_xpath(\"//a[@class = 'title fw500 ellipsis']\")"
   ]
  },
  {
   "cell_type": "code",
   "execution_count": 59,
   "id": "146ecb1a",
   "metadata": {},
   "outputs": [
    {
     "data": {
      "text/plain": [
       "['Data Scientist',\n",
       " 'Job Opportunity || Data Scientist || HCL Technologies',\n",
       " 'Data Scientist',\n",
       " 'Data Scientist']"
      ]
     },
     "execution_count": 59,
     "metadata": {},
     "output_type": "execute_result"
    }
   ],
   "source": [
    "for i in t_t:\n",
    "    title = i.text\n",
    "    job_title.append(title)\n",
    "job_title[0:4]"
   ]
  },
  {
   "cell_type": "code",
   "execution_count": 60,
   "id": "6d347fab",
   "metadata": {},
   "outputs": [
    {
     "name": "stderr",
     "output_type": "stream",
     "text": [
      "<ipython-input-60-93b61aaa02e5>:2: DeprecationWarning: find_elements_by_* commands are deprecated. Please use find_elements() instead\n",
      "  c_n = driver.find_elements_by_xpath(\"//a[@class = 'subTitle ellipsis fleft']\")\n"
     ]
    }
   ],
   "source": [
    "#Extracting company name\n",
    "c_n = driver.find_elements_by_xpath(\"//a[@class = 'subTitle ellipsis fleft']\")"
   ]
  },
  {
   "cell_type": "code",
   "execution_count": 61,
   "id": "2241377c",
   "metadata": {},
   "outputs": [
    {
     "data": {
      "text/plain": [
       "['Think i',\n",
       " 'HCL Technologies',\n",
       " 'MoMagic Technologies Pvt. Ltd.',\n",
       " 'MoMagic Technologies Pvt. Ltd.']"
      ]
     },
     "execution_count": 61,
     "metadata": {},
     "output_type": "execute_result"
    }
   ],
   "source": [
    "for i in c_n:\n",
    "    names = i.text\n",
    "    comp_name.append(names)\n",
    "comp_name[0:4]"
   ]
  },
  {
   "cell_type": "code",
   "execution_count": 62,
   "id": "dafd2766",
   "metadata": {},
   "outputs": [
    {
     "name": "stderr",
     "output_type": "stream",
     "text": [
      "<ipython-input-62-fa9c87cff84b>:2: DeprecationWarning: find_elements_by_* commands are deprecated. Please use find_elements() instead\n",
      "  l_n = driver.find_elements_by_xpath(\"//li[@class = 'fleft grey-text br2 placeHolderLi location']/span[1]\")\n"
     ]
    }
   ],
   "source": [
    "#Extracting location\n",
    "l_n = driver.find_elements_by_xpath(\"//li[@class = 'fleft grey-text br2 placeHolderLi location']/span[1]\")"
   ]
  },
  {
   "cell_type": "code",
   "execution_count": 63,
   "id": "a0a53d20",
   "metadata": {},
   "outputs": [
    {
     "data": {
      "text/plain": [
       "['Kochi/Cochin, Kolkata, Hyderabad/Secunderabad, Pune, Ahmedabad, Chennai, Bangalore/Bengaluru, Delhi / NCR, Mumbai (All Areas)',\n",
       " 'Delhi / NCR',\n",
       " 'Noida(Sector-126 Noida)',\n",
       " 'Noida(Sector-126 Noida)']"
      ]
     },
     "execution_count": 63,
     "metadata": {},
     "output_type": "execute_result"
    }
   ],
   "source": [
    "for i in l_n:\n",
    "    locations = i.text\n",
    "    loca.append(locations)\n",
    "loca[0:4]"
   ]
  },
  {
   "cell_type": "code",
   "execution_count": 64,
   "id": "be0a9557",
   "metadata": {},
   "outputs": [
    {
     "name": "stderr",
     "output_type": "stream",
     "text": [
      "<ipython-input-64-0e3c5ffc4231>:2: DeprecationWarning: find_elements_by_* commands are deprecated. Please use find_elements() instead\n",
      "  e_r = driver.find_elements_by_xpath(\"//li[@class='fleft grey-text br2 placeHolderLi experience']/span[1]\")\n"
     ]
    }
   ],
   "source": [
    "#Extracting company name\n",
    "e_r = driver.find_elements_by_xpath(\"//li[@class='fleft grey-text br2 placeHolderLi experience']/span[1]\")"
   ]
  },
  {
   "cell_type": "code",
   "execution_count": 65,
   "id": "1e39eb7b",
   "metadata": {},
   "outputs": [
    {
     "data": {
      "text/plain": [
       "['0-2 Yrs', '4-7 Yrs', '4-6 Yrs', '4-6 Yrs']"
      ]
     },
     "execution_count": 65,
     "metadata": {},
     "output_type": "execute_result"
    }
   ],
   "source": [
    "for i in e_r:\n",
    "    expe = i.text\n",
    "    exp.append(expe)\n",
    "exp[0:4]"
   ]
  },
  {
   "cell_type": "code",
   "execution_count": 67,
   "id": "b6868d6a",
   "metadata": {},
   "outputs": [
    {
     "name": "stdout",
     "output_type": "stream",
     "text": [
      "20 20 20 20\n"
     ]
    }
   ],
   "source": [
    "#Checking lengths of all three lists\n",
    "print(len(t_t),len(c_n),len(l_n),len(e_r))\n"
   ]
  },
  {
   "cell_type": "code",
   "execution_count": 68,
   "id": "f85a7885",
   "metadata": {},
   "outputs": [],
   "source": [
    "#Creating and storing data in a dataframe\n",
    "naukri = pd.DataFrame({})\n",
    "naukri['Title']=job_title\n",
    "naukri['Company Name']=comp_name\n",
    "naukri['Locations']=loca\n",
    "naukri['Experience']= exp"
   ]
  },
  {
   "cell_type": "code",
   "execution_count": 69,
   "id": "28f00706",
   "metadata": {},
   "outputs": [
    {
     "data": {
      "text/html": [
       "<div>\n",
       "<style scoped>\n",
       "    .dataframe tbody tr th:only-of-type {\n",
       "        vertical-align: middle;\n",
       "    }\n",
       "\n",
       "    .dataframe tbody tr th {\n",
       "        vertical-align: top;\n",
       "    }\n",
       "\n",
       "    .dataframe thead th {\n",
       "        text-align: right;\n",
       "    }\n",
       "</style>\n",
       "<table border=\"1\" class=\"dataframe\">\n",
       "  <thead>\n",
       "    <tr style=\"text-align: right;\">\n",
       "      <th></th>\n",
       "      <th>Title</th>\n",
       "      <th>Company Name</th>\n",
       "      <th>Locations</th>\n",
       "      <th>Experience</th>\n",
       "    </tr>\n",
       "  </thead>\n",
       "  <tbody>\n",
       "    <tr>\n",
       "      <th>0</th>\n",
       "      <td>Data Scientist</td>\n",
       "      <td>Think i</td>\n",
       "      <td>Kochi/Cochin, Kolkata, Hyderabad/Secunderabad,...</td>\n",
       "      <td>0-2 Yrs</td>\n",
       "    </tr>\n",
       "    <tr>\n",
       "      <th>1</th>\n",
       "      <td>Job Opportunity || Data Scientist || HCL Techn...</td>\n",
       "      <td>HCL Technologies</td>\n",
       "      <td>Delhi / NCR</td>\n",
       "      <td>4-7 Yrs</td>\n",
       "    </tr>\n",
       "    <tr>\n",
       "      <th>2</th>\n",
       "      <td>Data Scientist</td>\n",
       "      <td>MoMagic Technologies Pvt. Ltd.</td>\n",
       "      <td>Noida(Sector-126 Noida)</td>\n",
       "      <td>4-6 Yrs</td>\n",
       "    </tr>\n",
       "    <tr>\n",
       "      <th>3</th>\n",
       "      <td>Data Scientist</td>\n",
       "      <td>MoMagic Technologies Pvt. Ltd.</td>\n",
       "      <td>Noida(Sector-126 Noida)</td>\n",
       "      <td>4-6 Yrs</td>\n",
       "    </tr>\n",
       "    <tr>\n",
       "      <th>4</th>\n",
       "      <td>Urgent Hiring || Data Scientist || Delhi</td>\n",
       "      <td>Shriram Automall India Limited</td>\n",
       "      <td>Delhi / NCR(Netaji Subhash Place)</td>\n",
       "      <td>2-7 Yrs</td>\n",
       "    </tr>\n",
       "    <tr>\n",
       "      <th>5</th>\n",
       "      <td>Data Scientist</td>\n",
       "      <td>Optum Global Solutions (India) Private Limited</td>\n",
       "      <td>Noida, Gurgaon/Gurugram</td>\n",
       "      <td>2-6 Yrs</td>\n",
       "    </tr>\n",
       "    <tr>\n",
       "      <th>6</th>\n",
       "      <td>Data Scientist</td>\n",
       "      <td>SVK Global Solutions Private Limited</td>\n",
       "      <td>Noida</td>\n",
       "      <td>6-10 Yrs</td>\n",
       "    </tr>\n",
       "    <tr>\n",
       "      <th>7</th>\n",
       "      <td>Data Scientist Internship</td>\n",
       "      <td>iHackers Inc</td>\n",
       "      <td>New Delhi</td>\n",
       "      <td>0-1 Yrs</td>\n",
       "    </tr>\n",
       "    <tr>\n",
       "      <th>8</th>\n",
       "      <td>Data Scientist</td>\n",
       "      <td>Fractal Analytics</td>\n",
       "      <td>Mumbai, Gurgaon/Gurugram, Bangalore/Bengaluru</td>\n",
       "      <td>3-7 Yrs</td>\n",
       "    </tr>\n",
       "    <tr>\n",
       "      <th>9</th>\n",
       "      <td>Project Manager | Team Leader | Senior Data Sc...</td>\n",
       "      <td>Tidyquant (OPC) Private Limited</td>\n",
       "      <td>Remote</td>\n",
       "      <td>2-7 Yrs</td>\n",
       "    </tr>\n",
       "  </tbody>\n",
       "</table>\n",
       "</div>"
      ],
      "text/plain": [
       "                                               Title  \\\n",
       "0                                     Data Scientist   \n",
       "1  Job Opportunity || Data Scientist || HCL Techn...   \n",
       "2                                     Data Scientist   \n",
       "3                                     Data Scientist   \n",
       "4           Urgent Hiring || Data Scientist || Delhi   \n",
       "5                                     Data Scientist   \n",
       "6                                     Data Scientist   \n",
       "7                          Data Scientist Internship   \n",
       "8                                     Data Scientist   \n",
       "9  Project Manager | Team Leader | Senior Data Sc...   \n",
       "\n",
       "                                     Company Name  \\\n",
       "0                                         Think i   \n",
       "1                                HCL Technologies   \n",
       "2                  MoMagic Technologies Pvt. Ltd.   \n",
       "3                  MoMagic Technologies Pvt. Ltd.   \n",
       "4                  Shriram Automall India Limited   \n",
       "5  Optum Global Solutions (India) Private Limited   \n",
       "6            SVK Global Solutions Private Limited   \n",
       "7                                    iHackers Inc   \n",
       "8                               Fractal Analytics   \n",
       "9                 Tidyquant (OPC) Private Limited   \n",
       "\n",
       "                                           Locations Experience  \n",
       "0  Kochi/Cochin, Kolkata, Hyderabad/Secunderabad,...    0-2 Yrs  \n",
       "1                                        Delhi / NCR    4-7 Yrs  \n",
       "2                            Noida(Sector-126 Noida)    4-6 Yrs  \n",
       "3                            Noida(Sector-126 Noida)    4-6 Yrs  \n",
       "4                  Delhi / NCR(Netaji Subhash Place)    2-7 Yrs  \n",
       "5                            Noida, Gurgaon/Gurugram    2-6 Yrs  \n",
       "6                                              Noida   6-10 Yrs  \n",
       "7                                          New Delhi    0-1 Yrs  \n",
       "8      Mumbai, Gurgaon/Gurugram, Bangalore/Bengaluru    3-7 Yrs  \n",
       "9                                             Remote    2-7 Yrs  "
      ]
     },
     "execution_count": 69,
     "metadata": {},
     "output_type": "execute_result"
    }
   ],
   "source": [
    "naukri.head(10)"
   ]
  },
  {
   "cell_type": "markdown",
   "id": "c654c4ea",
   "metadata": {},
   "source": [
    "# Q4: Scrape data of first 100 sunglasses listings on flipkart.com. You have to scrape four attributes:\n",
    "1. Brand\n",
    "2. Product Description\n",
    "3. Price\n"
   ]
  },
  {
   "cell_type": "code",
   "execution_count": 17,
   "id": "8cf4eb46",
   "metadata": {},
   "outputs": [
    {
     "name": "stderr",
     "output_type": "stream",
     "text": [
      "<ipython-input-17-f54c79595346>:1: DeprecationWarning: executable_path has been deprecated, please pass in a Service object\n",
      "  driver = webdriver.Chrome('chromedriver.exe')\n"
     ]
    }
   ],
   "source": [
    "driver = webdriver.Chrome('chromedriver.exe')"
   ]
  },
  {
   "cell_type": "code",
   "execution_count": 18,
   "id": "0cf5618d",
   "metadata": {
    "scrolled": true
   },
   "outputs": [],
   "source": [
    "driver.get('https://www.flipkart.com/')"
   ]
  },
  {
   "cell_type": "code",
   "execution_count": 19,
   "id": "5579d001",
   "metadata": {},
   "outputs": [],
   "source": [
    "search_sun=driver.find_element_by_xpath(\"//input[@type='text']\")\n",
    "search_sun.send_keys(\"Sunglasses\")"
   ]
  },
  {
   "cell_type": "code",
   "execution_count": 21,
   "id": "208ba9ea",
   "metadata": {},
   "outputs": [],
   "source": [
    "#locating the button and clicking it toh search for sunglasses\n",
    "button=driver.find_element_by_class_name('L0Z3Pu')\n",
    "button.click()"
   ]
  },
  {
   "cell_type": "code",
   "execution_count": 23,
   "id": "62c8a2e9",
   "metadata": {},
   "outputs": [
    {
     "name": "stderr",
     "output_type": "stream",
     "text": [
      "C:\\Users\\Srishti Maan\\anaconda3\\lib\\site-packages\\selenium\\webdriver\\remote\\webdriver.py:702: UserWarning: find_elements_by_* commands are deprecated. Please use find_elements() instead\n",
      "  warnings.warn(\"find_elements_by_* commands are deprecated. Please use find_elements() instead\")\n"
     ]
    }
   ],
   "source": [
    "import time\n",
    "#creating the empty list\n",
    "brand=[]\n",
    "description=[]\n",
    "price=[]\n",
    "\n",
    "\n",
    "time.sleep(3)\n",
    "#scrapping the required details\n",
    "start=0\n",
    "end=3\n",
    "for page in range(start,end):#for loop for scrapping 4 page\n",
    "    brands=driver.find_elements_by_class_name('_2WkVRV')#scraping brands name by class name='_2WkVRV'\n",
    "    for i in brands:\n",
    "        brand.append(i.text)#appending the text in Brand list\n",
    "    desc=driver.find_elements_by_xpath('//a[@class=\"IRpwTa\"]')#scraping description from the xpath\n",
    "    for i in desc:\n",
    "        description.append(i.text)#appending the description in list\n",
    "    prices=driver.find_elements_by_xpath(\"//div[@class='_30jeq3']\")# scraping the price from the xpath\n",
    "    for i in prices:\n",
    "        price.append(i.text)\n",
    "    nxt_button=driver.find_elements_by_xpath(\"//a[@class='_1LKTO3']\")#scraping the list of buttons from the page\n",
    "    try:\n",
    "        driver.get(nxt_button[1].get_attribute('href'))#getting the link from the list for next page\n",
    "    except:\n",
    "        driver.get(nxt_button[0].get_attribute('href'))\n"
   ]
  },
  {
   "cell_type": "code",
   "execution_count": 24,
   "id": "a6cd8c9a",
   "metadata": {},
   "outputs": [
    {
     "data": {
      "text/html": [
       "<div>\n",
       "<style scoped>\n",
       "    .dataframe tbody tr th:only-of-type {\n",
       "        vertical-align: middle;\n",
       "    }\n",
       "\n",
       "    .dataframe tbody tr th {\n",
       "        vertical-align: top;\n",
       "    }\n",
       "\n",
       "    .dataframe thead th {\n",
       "        text-align: right;\n",
       "    }\n",
       "</style>\n",
       "<table border=\"1\" class=\"dataframe\">\n",
       "  <thead>\n",
       "    <tr style=\"text-align: right;\">\n",
       "      <th></th>\n",
       "      <th>Brand</th>\n",
       "      <th>Description</th>\n",
       "      <th>Price</th>\n",
       "    </tr>\n",
       "  </thead>\n",
       "  <tbody>\n",
       "    <tr>\n",
       "      <th>0</th>\n",
       "      <td>ROZZETTA CRAFT</td>\n",
       "      <td>UV Protection, Gradient Round Sunglasses (Free...</td>\n",
       "      <td>₹336</td>\n",
       "    </tr>\n",
       "    <tr>\n",
       "      <th>1</th>\n",
       "      <td>ROZZETTA CRAFT</td>\n",
       "      <td>UV Protection, Gradient Retro Square Sunglasse...</td>\n",
       "      <td>₹349</td>\n",
       "    </tr>\n",
       "    <tr>\n",
       "      <th>2</th>\n",
       "      <td>Elligator</td>\n",
       "      <td>UV Protection Round Sunglasses (54)</td>\n",
       "      <td>₹248</td>\n",
       "    </tr>\n",
       "    <tr>\n",
       "      <th>3</th>\n",
       "      <td>SRPM</td>\n",
       "      <td>UV Protection Wayfarer Sunglasses (56)</td>\n",
       "      <td>₹188</td>\n",
       "    </tr>\n",
       "    <tr>\n",
       "      <th>4</th>\n",
       "      <td>SUNBEE</td>\n",
       "      <td>UV Protection, Polarized, Mirrored Round Sungl...</td>\n",
       "      <td>₹276</td>\n",
       "    </tr>\n",
       "    <tr>\n",
       "      <th>...</th>\n",
       "      <td>...</td>\n",
       "      <td>...</td>\n",
       "      <td>...</td>\n",
       "    </tr>\n",
       "    <tr>\n",
       "      <th>115</th>\n",
       "      <td>ROZZETTA CRAFT</td>\n",
       "      <td>UV Protection, Gradient Retro Square Sunglasse...</td>\n",
       "      <td>₹349</td>\n",
       "    </tr>\n",
       "    <tr>\n",
       "      <th>116</th>\n",
       "      <td>Fastrack</td>\n",
       "      <td>UV Protection Shield Sunglasses (Free Size)</td>\n",
       "      <td>₹759</td>\n",
       "    </tr>\n",
       "    <tr>\n",
       "      <th>117</th>\n",
       "      <td>PHENOMENAL</td>\n",
       "      <td>UV Protection Round Sunglasses (53)</td>\n",
       "      <td>₹249</td>\n",
       "    </tr>\n",
       "    <tr>\n",
       "      <th>118</th>\n",
       "      <td>Ray-Ban</td>\n",
       "      <td>Mirrored, UV Protection Aviator Sunglasses (58)</td>\n",
       "      <td>₹3,142</td>\n",
       "    </tr>\n",
       "    <tr>\n",
       "      <th>119</th>\n",
       "      <td>VILLAIN</td>\n",
       "      <td>Others Retro Square Sunglasses (Free Size)</td>\n",
       "      <td>₹549</td>\n",
       "    </tr>\n",
       "  </tbody>\n",
       "</table>\n",
       "<p>120 rows × 3 columns</p>\n",
       "</div>"
      ],
      "text/plain": [
       "              Brand                                        Description   Price\n",
       "0    ROZZETTA CRAFT  UV Protection, Gradient Round Sunglasses (Free...    ₹336\n",
       "1    ROZZETTA CRAFT  UV Protection, Gradient Retro Square Sunglasse...    ₹349\n",
       "2         Elligator                UV Protection Round Sunglasses (54)    ₹248\n",
       "3              SRPM             UV Protection Wayfarer Sunglasses (56)    ₹188\n",
       "4            SUNBEE  UV Protection, Polarized, Mirrored Round Sungl...    ₹276\n",
       "..              ...                                                ...     ...\n",
       "115  ROZZETTA CRAFT  UV Protection, Gradient Retro Square Sunglasse...    ₹349\n",
       "116        Fastrack        UV Protection Shield Sunglasses (Free Size)    ₹759\n",
       "117      PHENOMENAL                UV Protection Round Sunglasses (53)    ₹249\n",
       "118         Ray-Ban    Mirrored, UV Protection Aviator Sunglasses (58)  ₹3,142\n",
       "119         VILLAIN         Others Retro Square Sunglasses (Free Size)    ₹549\n",
       "\n",
       "[120 rows x 3 columns]"
      ]
     },
     "execution_count": 24,
     "metadata": {},
     "output_type": "execute_result"
    }
   ],
   "source": [
    "#creating a dataframe\n",
    "df=pd.DataFrame({'Brand':brand,\n",
    "                'Description':description,\n",
    "                'Price':price})\n",
    "#printing dataframe\n",
    "df"
   ]
  },
  {
   "cell_type": "markdown",
   "id": "d3726ead",
   "metadata": {},
   "source": [
    "# Q5: Scrape 100 reviews data from flipkart.com for iphone11 phone. You have to go the link: https://www.flipkart.com/apple-iphone-11-black-64-gb-includes- earpods-poweradapter/p/itm0f37c2240b217?pid=MOBFKCTSVZAXUHGR&lid=LSTMOBFKCTSVZAXUHGREPBFGI&marketplace."
   ]
  },
  {
   "cell_type": "code",
   "execution_count": 74,
   "id": "c3dc4729",
   "metadata": {},
   "outputs": [
    {
     "name": "stderr",
     "output_type": "stream",
     "text": [
      "<ipython-input-74-2478a8c83437>:2: DeprecationWarning: executable_path has been deprecated, please pass in a Service object\n",
      "  driver = webdriver.Chrome(r'C:\\Users\\Administrator\\Downloads\\chromedriver_win32\\chromedriver.exe')\n"
     ]
    }
   ],
   "source": [
    "#Connecting to web driver\n",
    "driver = webdriver.Chrome(r'C:\\Users\\Administrator\\Downloads\\chromedriver_win32\\chromedriver.exe')"
   ]
  },
  {
   "cell_type": "code",
   "execution_count": 75,
   "id": "c2ac68ee",
   "metadata": {},
   "outputs": [],
   "source": [
    "driver.get(\" https://www.flipkart.com/apple-iphone-11-black-64-gb-includesearpods-poweradapter/p/itm0f37c2240b217?pid=MOBFKCTSVZAXUHGR&lid=LSTMOBFKCTSVZAXUHGREPBFGI&marketplace\")"
   ]
  },
  {
   "cell_type": "code",
   "execution_count": 76,
   "id": "2b1ae64c",
   "metadata": {},
   "outputs": [
    {
     "name": "stderr",
     "output_type": "stream",
     "text": [
      "<ipython-input-76-e223c49561ba>:1: DeprecationWarning: find_element_by_* commands are deprecated. Please use find_element() instead\n",
      "  r_t=driver.find_element_by_xpath(\"//div[@class='_3UAT2v _16PBlm']/span\")\n"
     ]
    }
   ],
   "source": [
    "r_t=driver.find_element_by_xpath(\"//div[@class='_3UAT2v _16PBlm']/span\")\n",
    "r_t.click()"
   ]
  },
  {
   "cell_type": "code",
   "execution_count": 77,
   "id": "5fb35dee",
   "metadata": {},
   "outputs": [],
   "source": [
    "rat=[]\n",
    "rev=[]\n",
    "f_rev=[]"
   ]
  },
  {
   "cell_type": "code",
   "execution_count": 78,
   "id": "89780df4",
   "metadata": {},
   "outputs": [],
   "source": [
    "url= 'https://www.flipkart.com/apple-iphone-11-black-64-gb-includes-earpods-power-adapter/product-reviews/itm0f37c2240b217?pid=MOBFKCTSVZAXUHGR&lid=LSTMOBFKCTSVZAXUHGREPBFGI&marketplace=FLIPKART'"
   ]
  },
  {
   "cell_type": "code",
   "execution_count": 79,
   "id": "90733284",
   "metadata": {},
   "outputs": [
    {
     "name": "stderr",
     "output_type": "stream",
     "text": [
      "<ipython-input-79-4b162a606d7d>:6: DeprecationWarning: find_elements_by_* commands are deprecated. Please use find_elements() instead\n",
      "  p_urls=driver.find_elements_by_xpath(\"//a[@class='ge-49M _2Kfbh8']|//a[@class='ge-49M']\")\n"
     ]
    }
   ],
   "source": [
    "f_p=0\n",
    "l_p=1\n",
    "urls = []\n",
    "for page in range(f_p,l_p+1):\n",
    "    driver.get(url)\n",
    "    p_urls=driver.find_elements_by_xpath(\"//a[@class='ge-49M _2Kfbh8']|//a[@class='ge-49M']\")\n",
    "    for i in p_urls:\n",
    "        urls.append(i.get_attribute('href'))"
   ]
  },
  {
   "cell_type": "code",
   "execution_count": 80,
   "id": "f8bd7455",
   "metadata": {},
   "outputs": [
    {
     "data": {
      "text/plain": [
       "['https://www.flipkart.com/apple-iphone-11-black-64-gb-includes-earpods-power-adapter/product-reviews/itm0f37c2240b217?pid=MOBFKCTSVZAXUHGR&lid=LSTMOBFKCTSVZAXUHGREPBFGI&marketplace=FLIPKART&page=1',\n",
       " 'https://www.flipkart.com/apple-iphone-11-black-64-gb-includes-earpods-power-adapter/product-reviews/itm0f37c2240b217?pid=MOBFKCTSVZAXUHGR&lid=LSTMOBFKCTSVZAXUHGREPBFGI&marketplace=FLIPKART&page=2',\n",
       " 'https://www.flipkart.com/apple-iphone-11-black-64-gb-includes-earpods-power-adapter/product-reviews/itm0f37c2240b217?pid=MOBFKCTSVZAXUHGR&lid=LSTMOBFKCTSVZAXUHGREPBFGI&marketplace=FLIPKART&page=3',\n",
       " 'https://www.flipkart.com/apple-iphone-11-black-64-gb-includes-earpods-power-adapter/product-reviews/itm0f37c2240b217?pid=MOBFKCTSVZAXUHGR&lid=LSTMOBFKCTSVZAXUHGREPBFGI&marketplace=FLIPKART&page=4',\n",
       " 'https://www.flipkart.com/apple-iphone-11-black-64-gb-includes-earpods-power-adapter/product-reviews/itm0f37c2240b217?pid=MOBFKCTSVZAXUHGR&lid=LSTMOBFKCTSVZAXUHGREPBFGI&marketplace=FLIPKART&page=5',\n",
       " 'https://www.flipkart.com/apple-iphone-11-black-64-gb-includes-earpods-power-adapter/product-reviews/itm0f37c2240b217?pid=MOBFKCTSVZAXUHGR&lid=LSTMOBFKCTSVZAXUHGREPBFGI&marketplace=FLIPKART&page=6',\n",
       " 'https://www.flipkart.com/apple-iphone-11-black-64-gb-includes-earpods-power-adapter/product-reviews/itm0f37c2240b217?pid=MOBFKCTSVZAXUHGR&lid=LSTMOBFKCTSVZAXUHGREPBFGI&marketplace=FLIPKART&page=7',\n",
       " 'https://www.flipkart.com/apple-iphone-11-black-64-gb-includes-earpods-power-adapter/product-reviews/itm0f37c2240b217?pid=MOBFKCTSVZAXUHGR&lid=LSTMOBFKCTSVZAXUHGREPBFGI&marketplace=FLIPKART&page=8',\n",
       " 'https://www.flipkart.com/apple-iphone-11-black-64-gb-includes-earpods-power-adapter/product-reviews/itm0f37c2240b217?pid=MOBFKCTSVZAXUHGR&lid=LSTMOBFKCTSVZAXUHGREPBFGI&marketplace=FLIPKART&page=9',\n",
       " 'https://www.flipkart.com/apple-iphone-11-black-64-gb-includes-earpods-power-adapter/product-reviews/itm0f37c2240b217?pid=MOBFKCTSVZAXUHGR&lid=LSTMOBFKCTSVZAXUHGREPBFGI&marketplace=FLIPKART&page=10']"
      ]
     },
     "execution_count": 80,
     "metadata": {},
     "output_type": "execute_result"
    }
   ],
   "source": [
    "urls=urls[:10]\n",
    "urls"
   ]
  },
  {
   "cell_type": "code",
   "execution_count": 81,
   "id": "f2b56eff",
   "metadata": {},
   "outputs": [
    {
     "name": "stderr",
     "output_type": "stream",
     "text": [
      "<ipython-input-81-7551bdcb2747>:3: DeprecationWarning: find_elements_by_* commands are deprecated. Please use find_elements() instead\n",
      "  rating=driver.find_elements_by_xpath(\"//div[@class='_3LWZlK _1BLPMq']\")\n"
     ]
    },
    {
     "data": {
      "text/plain": [
       "['5', '5', '5', '5', '5']"
      ]
     },
     "execution_count": 81,
     "metadata": {},
     "output_type": "execute_result"
    }
   ],
   "source": [
    "for i in urls:\n",
    "        driver.get(i)\n",
    "        rating=driver.find_elements_by_xpath(\"//div[@class='_3LWZlK _1BLPMq']\")\n",
    "        for i in rating:\n",
    "            if i is not None:\n",
    "                rat.append(i.text)\n",
    "            else:\n",
    "                rat.append('-')\n",
    "                \n",
    "rat[:5]"
   ]
  },
  {
   "cell_type": "code",
   "execution_count": 82,
   "id": "5cb67fac",
   "metadata": {},
   "outputs": [
    {
     "name": "stderr",
     "output_type": "stream",
     "text": [
      "<ipython-input-82-cb1d9d6b1dcd>:3: DeprecationWarning: find_elements_by_* commands are deprecated. Please use find_elements() instead\n",
      "  review=driver.find_elements_by_xpath(\"//p[@class='_2-N8zT']\")\n"
     ]
    },
    {
     "data": {
      "text/plain": [
       "['Brilliant',\n",
       " 'Simply awesome',\n",
       " 'Perfect product!',\n",
       " 'Worth every penny',\n",
       " 'Fabulous!']"
      ]
     },
     "execution_count": 82,
     "metadata": {},
     "output_type": "execute_result"
    }
   ],
   "source": [
    "for i in urls:\n",
    "        driver.get(i)\n",
    "        review=driver.find_elements_by_xpath(\"//p[@class='_2-N8zT']\")\n",
    "        for j in review:\n",
    "            if j is not None:\n",
    "                rev.append(j.text)\n",
    "            else:\n",
    "                rev.append('-')\n",
    "                \n",
    "rev[:5]"
   ]
  },
  {
   "cell_type": "code",
   "execution_count": 83,
   "id": "914d45bc",
   "metadata": {},
   "outputs": [
    {
     "name": "stderr",
     "output_type": "stream",
     "text": [
      "<ipython-input-83-be9ab901b69c>:3: DeprecationWarning: find_elements_by_* commands are deprecated. Please use find_elements() instead\n",
      "  freview=driver.find_elements_by_xpath(\"//div[@class='t-ZTKy']\")\n"
     ]
    },
    {
     "data": {
      "text/plain": [
       "['The Best Phone for the Money\\n\\nThe iPhone 11 offers superb cameras, a more durable design and excellent battery life for an affordable price.\\n\\nCompelling ultra-wide camera\\nNew Night mode is excellent\\nLong battery life',\n",
       " 'Really satisfied with the Product I received... It’s totally genuine and the packaging was also really good so if ur planning to buy just go for it.',\n",
       " 'Amazing phone with great cameras and better battery which gives you the best performance. I just love the camera .',\n",
       " 'Previously I was using one plus 3t it was a great phone\\nAnd then I decided to upgrade I am stuck between Samsung s10 plus or iPhone 11\\nI have seen the specs and everything were good except the display it’s somewhere between 720-1080 and it’s not even an amoled it’s an LCD display\\nBut I decided to go with iPhone because I have never used an IOS device I have Been an android user from the past 9 years I ordered IPhone 11 (128gb) product red\\nMy experience after using 3 weeks\\n1. The delivery ...\\nREAD MORE',\n",
       " 'This is my first iOS phone. I am very happy with this product. Very much satisfied with this. I love this phone.']"
      ]
     },
     "execution_count": 83,
     "metadata": {},
     "output_type": "execute_result"
    }
   ],
   "source": [
    "for i in urls:\n",
    "        driver.get(i)\n",
    "        freview=driver.find_elements_by_xpath(\"//div[@class='t-ZTKy']\")\n",
    "        for j in freview:\n",
    "            if j is not None:\n",
    "                f_rev.append(j.text)\n",
    "            else:\n",
    "                f_rev.append('-')\n",
    "f_rev[:5]"
   ]
  },
  {
   "cell_type": "code",
   "execution_count": 84,
   "id": "2c99f52a",
   "metadata": {},
   "outputs": [
    {
     "name": "stdout",
     "output_type": "stream",
     "text": [
      "97 100 100\n"
     ]
    }
   ],
   "source": [
    "print(len(rat),len(rev),len(f_rev))"
   ]
  },
  {
   "cell_type": "code",
   "execution_count": 85,
   "id": "a64e0e10",
   "metadata": {},
   "outputs": [],
   "source": [
    "ipf = pd.DataFrame({})\n",
    "ipf['Rating']=rat[:89]\n",
    "ipf['Review_summary']=rev[:89]\n",
    "ipf['Full_review']=f_rev[:89]"
   ]
  },
  {
   "cell_type": "code",
   "execution_count": 86,
   "id": "a917f8db",
   "metadata": {},
   "outputs": [
    {
     "data": {
      "text/html": [
       "<div>\n",
       "<style scoped>\n",
       "    .dataframe tbody tr th:only-of-type {\n",
       "        vertical-align: middle;\n",
       "    }\n",
       "\n",
       "    .dataframe tbody tr th {\n",
       "        vertical-align: top;\n",
       "    }\n",
       "\n",
       "    .dataframe thead th {\n",
       "        text-align: right;\n",
       "    }\n",
       "</style>\n",
       "<table border=\"1\" class=\"dataframe\">\n",
       "  <thead>\n",
       "    <tr style=\"text-align: right;\">\n",
       "      <th></th>\n",
       "      <th>Rating</th>\n",
       "      <th>Review_summary</th>\n",
       "      <th>Full_review</th>\n",
       "    </tr>\n",
       "  </thead>\n",
       "  <tbody>\n",
       "    <tr>\n",
       "      <th>0</th>\n",
       "      <td>5</td>\n",
       "      <td>Brilliant</td>\n",
       "      <td>The Best Phone for the Money\\n\\nThe iPhone 11 ...</td>\n",
       "    </tr>\n",
       "    <tr>\n",
       "      <th>1</th>\n",
       "      <td>5</td>\n",
       "      <td>Simply awesome</td>\n",
       "      <td>Really satisfied with the Product I received.....</td>\n",
       "    </tr>\n",
       "    <tr>\n",
       "      <th>2</th>\n",
       "      <td>5</td>\n",
       "      <td>Perfect product!</td>\n",
       "      <td>Amazing phone with great cameras and better ba...</td>\n",
       "    </tr>\n",
       "    <tr>\n",
       "      <th>3</th>\n",
       "      <td>5</td>\n",
       "      <td>Worth every penny</td>\n",
       "      <td>Previously I was using one plus 3t it was a gr...</td>\n",
       "    </tr>\n",
       "    <tr>\n",
       "      <th>4</th>\n",
       "      <td>5</td>\n",
       "      <td>Fabulous!</td>\n",
       "      <td>This is my first iOS phone. I am very happy wi...</td>\n",
       "    </tr>\n",
       "    <tr>\n",
       "      <th>5</th>\n",
       "      <td>5</td>\n",
       "      <td>Best in the market!</td>\n",
       "      <td>Great iPhone very snappy experience as apple k...</td>\n",
       "    </tr>\n",
       "    <tr>\n",
       "      <th>6</th>\n",
       "      <td>5</td>\n",
       "      <td>Great product</td>\n",
       "      <td>Amazing Powerful and Durable Gadget.\\n\\nI’m am...</td>\n",
       "    </tr>\n",
       "    <tr>\n",
       "      <th>7</th>\n",
       "      <td>4</td>\n",
       "      <td>Good choice</td>\n",
       "      <td>So far it’s been an AMAZING experience coming ...</td>\n",
       "    </tr>\n",
       "    <tr>\n",
       "      <th>8</th>\n",
       "      <td>5</td>\n",
       "      <td>Worth every penny</td>\n",
       "      <td>i11 is worthy to buy, too much happy with the ...</td>\n",
       "    </tr>\n",
       "    <tr>\n",
       "      <th>9</th>\n",
       "      <td>5</td>\n",
       "      <td>Highly recommended</td>\n",
       "      <td>iphone 11 is a very good phone to buy only if ...</td>\n",
       "    </tr>\n",
       "  </tbody>\n",
       "</table>\n",
       "</div>"
      ],
      "text/plain": [
       "  Rating       Review_summary  \\\n",
       "0      5            Brilliant   \n",
       "1      5       Simply awesome   \n",
       "2      5     Perfect product!   \n",
       "3      5    Worth every penny   \n",
       "4      5            Fabulous!   \n",
       "5      5  Best in the market!   \n",
       "6      5        Great product   \n",
       "7      4          Good choice   \n",
       "8      5    Worth every penny   \n",
       "9      5   Highly recommended   \n",
       "\n",
       "                                         Full_review  \n",
       "0  The Best Phone for the Money\\n\\nThe iPhone 11 ...  \n",
       "1  Really satisfied with the Product I received.....  \n",
       "2  Amazing phone with great cameras and better ba...  \n",
       "3  Previously I was using one plus 3t it was a gr...  \n",
       "4  This is my first iOS phone. I am very happy wi...  \n",
       "5  Great iPhone very snappy experience as apple k...  \n",
       "6  Amazing Powerful and Durable Gadget.\\n\\nI’m am...  \n",
       "7  So far it’s been an AMAZING experience coming ...  \n",
       "8  i11 is worthy to buy, too much happy with the ...  \n",
       "9  iphone 11 is a very good phone to buy only if ...  "
      ]
     },
     "execution_count": 86,
     "metadata": {},
     "output_type": "execute_result"
    }
   ],
   "source": [
    "ipf.head(10)"
   ]
  },
  {
   "cell_type": "markdown",
   "id": "419953d0",
   "metadata": {},
   "source": [
    "# Q6: Scrape data for first 100 sneakers you find when you visit flipkart.com and search for “sneakers” in the search field.You have to scrape 4 attributes of each sneaker:\n",
    "1. Brand\n",
    "2. Product Description\n",
    "3. Price"
   ]
  },
  {
   "cell_type": "code",
   "execution_count": 202,
   "id": "f86c149a",
   "metadata": {},
   "outputs": [
    {
     "name": "stderr",
     "output_type": "stream",
     "text": [
      "<ipython-input-202-2478a8c83437>:2: DeprecationWarning: executable_path has been deprecated, please pass in a Service object\n",
      "  driver = webdriver.Chrome(r'C:\\Users\\Administrator\\Downloads\\chromedriver_win32\\chromedriver.exe')\n"
     ]
    }
   ],
   "source": [
    "#Connecting to web driver\n",
    "driver = webdriver.Chrome(r'C:\\Users\\Administrator\\Downloads\\chromedriver_win32\\chromedriver.exe')"
   ]
  },
  {
   "cell_type": "code",
   "execution_count": 25,
   "id": "b60f5d5b",
   "metadata": {},
   "outputs": [],
   "source": [
    "driver.get('https://www.flipkart.com/')"
   ]
  },
  {
   "cell_type": "code",
   "execution_count": 26,
   "id": "28c3c453",
   "metadata": {},
   "outputs": [
    {
     "name": "stderr",
     "output_type": "stream",
     "text": [
      "C:\\Users\\Srishti Maan\\anaconda3\\lib\\site-packages\\selenium\\webdriver\\remote\\webdriver.py:683: UserWarning: find_element_by_* commands are deprecated. Please use find_element() instead\n",
      "  warnings.warn(\"find_element_by_* commands are deprecated. Please use find_element() instead\")\n"
     ]
    }
   ],
   "source": [
    "#locating the search bar\n",
    "search_bar=driver.find_element_by_class_name(\"_3704LK\")\n",
    "search_bar.clear()\n",
    "search_bar.send_keys('sneakers')\n",
    "\n",
    "time.sleep(2)\n",
    "#locating the button and clicking it to search for sneakers\n",
    "button=driver.find_element_by_class_name('L0Z3Pu')\n",
    "button.click()"
   ]
  },
  {
   "cell_type": "code",
   "execution_count": 206,
   "id": "281732b6",
   "metadata": {},
   "outputs": [],
   "source": [
    "#URL for 1st 40 entries\n",
    "url = \"https://www.flipkart.com/search?q=Sneakers&otracker=search&otracker1=search&marketplace=FLIPKART&as-show=on&as=off\""
   ]
  },
  {
   "cell_type": "code",
   "execution_count": 207,
   "id": "7f9105cf",
   "metadata": {},
   "outputs": [],
   "source": [
    "driver.get(url)"
   ]
  },
  {
   "cell_type": "code",
   "execution_count": 208,
   "id": "5b7e1c80",
   "metadata": {},
   "outputs": [],
   "source": [
    "brand = []\n",
    "desc = []\n",
    "price =[]"
   ]
  },
  {
   "cell_type": "code",
   "execution_count": 209,
   "id": "7690b950",
   "metadata": {},
   "outputs": [
    {
     "name": "stderr",
     "output_type": "stream",
     "text": [
      "<ipython-input-209-d269767c987f>:2: DeprecationWarning: find_elements_by_* commands are deprecated. Please use find_elements() instead\n",
      "  b_t = driver.find_elements_by_xpath(\"//div[@class='_2WkVRV']\")\n"
     ]
    },
    {
     "data": {
      "text/plain": [
       "[<selenium.webdriver.remote.webelement.WebElement (session=\"2bb0000b21ccbd43019116734fbee0cb\", element=\"4a73f0e7-29e5-4488-9b12-b57967300cbc\")>,\n",
       " <selenium.webdriver.remote.webelement.WebElement (session=\"2bb0000b21ccbd43019116734fbee0cb\", element=\"f0e1d8ad-0bc7-48ba-8681-abc45b06e2ce\")>,\n",
       " <selenium.webdriver.remote.webelement.WebElement (session=\"2bb0000b21ccbd43019116734fbee0cb\", element=\"d1fff116-d3a4-4048-82e5-9be6bc9c3478\")>,\n",
       " <selenium.webdriver.remote.webelement.WebElement (session=\"2bb0000b21ccbd43019116734fbee0cb\", element=\"ebe99686-78ab-41a8-9981-82b58232523a\")>]"
      ]
     },
     "execution_count": 209,
     "metadata": {},
     "output_type": "execute_result"
    }
   ],
   "source": [
    "#Fetching brand 1-40\n",
    "b_t = driver.find_elements_by_xpath(\"//div[@class='_2WkVRV']\")\n",
    "b_t[0:4]"
   ]
  },
  {
   "cell_type": "code",
   "execution_count": 210,
   "id": "2de2c707",
   "metadata": {},
   "outputs": [
    {
     "data": {
      "text/plain": [
       "['Furo', \"Neeman's\", 'ASTEROID', 'Chevit']"
      ]
     },
     "execution_count": 210,
     "metadata": {},
     "output_type": "execute_result"
    }
   ],
   "source": [
    "for i in b_t:\n",
    "    bra = i.text\n",
    "    brand.append(bra)\n",
    "brand[0:4]"
   ]
  },
  {
   "cell_type": "code",
   "execution_count": 211,
   "id": "9ce1cca5",
   "metadata": {},
   "outputs": [
    {
     "name": "stderr",
     "output_type": "stream",
     "text": [
      "<ipython-input-211-188a5e0a454d>:2: DeprecationWarning: find_elements_by_* commands are deprecated. Please use find_elements() instead\n",
      "  d_t = driver.find_elements_by_xpath(\"//a[@class='IRpwTa']\")\n"
     ]
    },
    {
     "data": {
      "text/plain": [
       "[<selenium.webdriver.remote.webelement.WebElement (session=\"2bb0000b21ccbd43019116734fbee0cb\", element=\"0d750b2f-f890-4cd1-99aa-fe4f7185bda5\")>,\n",
       " <selenium.webdriver.remote.webelement.WebElement (session=\"2bb0000b21ccbd43019116734fbee0cb\", element=\"5eb187fb-4bdf-4ff2-a53c-72a1eed66bdf\")>,\n",
       " <selenium.webdriver.remote.webelement.WebElement (session=\"2bb0000b21ccbd43019116734fbee0cb\", element=\"82237e78-9227-4816-ba7e-26063836bad5\")>,\n",
       " <selenium.webdriver.remote.webelement.WebElement (session=\"2bb0000b21ccbd43019116734fbee0cb\", element=\"f681f5ce-758f-4cf8-bd0b-85a2846b3a32\")>]"
      ]
     },
     "execution_count": 211,
     "metadata": {},
     "output_type": "execute_result"
    }
   ],
   "source": [
    "#Fetching description 1-40\n",
    "d_t = driver.find_elements_by_xpath(\"//a[@class='IRpwTa']\")\n",
    "d_t[0:4]"
   ]
  },
  {
   "cell_type": "code",
   "execution_count": 212,
   "id": "df42d03c",
   "metadata": {},
   "outputs": [
    {
     "data": {
      "text/plain": [
       "['By Redchief Olive Green Sneaker For Men Sneakers For Me...',\n",
       " \"Original Luxury Branded Fashionable Men's Casual Walkin...\",\n",
       " 'Perfect & Affordable Combo Pack of 02 Pairs Sneakers Ou...',\n",
       " 'Sneakers For Men',\n",
       " 'Super Stylish & Trendy Combo Pack of 02 Pairs Sneakers ...']"
      ]
     },
     "execution_count": 212,
     "metadata": {},
     "output_type": "execute_result"
    }
   ],
   "source": [
    "for i in d_t:\n",
    "    if i is not None:\n",
    "        desc.append(i.text)\n",
    "    else:\n",
    "        desc.append('-')\n",
    "desc[:5]"
   ]
  },
  {
   "cell_type": "code",
   "execution_count": 213,
   "id": "7f2ef64e",
   "metadata": {},
   "outputs": [
    {
     "name": "stderr",
     "output_type": "stream",
     "text": [
      "<ipython-input-213-d046027507c2>:2: DeprecationWarning: find_elements_by_* commands are deprecated. Please use find_elements() instead\n",
      "  p_t = driver.find_elements_by_xpath(\"//div[@class='_30jeq3']\")\n"
     ]
    },
    {
     "data": {
      "text/plain": [
       "[<selenium.webdriver.remote.webelement.WebElement (session=\"2bb0000b21ccbd43019116734fbee0cb\", element=\"1fac6f5f-0d75-4390-baaa-3725346d38ec\")>,\n",
       " <selenium.webdriver.remote.webelement.WebElement (session=\"2bb0000b21ccbd43019116734fbee0cb\", element=\"0ce2c191-7ae6-437e-b546-b94f7175071a\")>,\n",
       " <selenium.webdriver.remote.webelement.WebElement (session=\"2bb0000b21ccbd43019116734fbee0cb\", element=\"367c004f-1973-4308-a2a7-710f1300db2c\")>,\n",
       " <selenium.webdriver.remote.webelement.WebElement (session=\"2bb0000b21ccbd43019116734fbee0cb\", element=\"72c44871-e29f-40e4-88b5-d65889a9f52f\")>]"
      ]
     },
     "execution_count": 213,
     "metadata": {},
     "output_type": "execute_result"
    }
   ],
   "source": [
    "#Fetching price 1-40\n",
    "p_t = driver.find_elements_by_xpath(\"//div[@class='_30jeq3']\")\n",
    "p_t[0:4]"
   ]
  },
  {
   "cell_type": "code",
   "execution_count": 214,
   "id": "ed53b652",
   "metadata": {},
   "outputs": [
    {
     "data": {
      "text/plain": [
       "['₹1,559', '₹2,399', '₹499', '₹599', '₹398']"
      ]
     },
     "execution_count": 214,
     "metadata": {},
     "output_type": "execute_result"
    }
   ],
   "source": [
    "for i in p_t:\n",
    "    if i is not None:\n",
    "        price.append(i.text)\n",
    "    else:\n",
    "        price.append('-')\n",
    "price[:5]"
   ]
  },
  {
   "cell_type": "code",
   "execution_count": 215,
   "id": "d23a00ce",
   "metadata": {},
   "outputs": [
    {
     "name": "stdout",
     "output_type": "stream",
     "text": [
      "40 33 40\n"
     ]
    }
   ],
   "source": [
    "print(len(brand),len(desc),len(price))"
   ]
  },
  {
   "cell_type": "code",
   "execution_count": 216,
   "id": "27c88c98",
   "metadata": {},
   "outputs": [
    {
     "name": "stderr",
     "output_type": "stream",
     "text": [
      "<ipython-input-216-9ff106657de4>:1: DeprecationWarning: find_element_by_* commands are deprecated. Please use find_element() instead\n",
      "  search_btn1 = driver.find_element_by_xpath(\"//a[@class='_1LKTO3']/span[1]\")\n"
     ]
    }
   ],
   "source": [
    "search_btn1 = driver.find_element_by_xpath(\"//a[@class='_1LKTO3']/span[1]\")\n",
    "search_btn1.click()"
   ]
  },
  {
   "cell_type": "code",
   "execution_count": 217,
   "id": "f91f1f06",
   "metadata": {},
   "outputs": [
    {
     "name": "stderr",
     "output_type": "stream",
     "text": [
      "<ipython-input-217-9dc2304d74ba>:2: DeprecationWarning: find_elements_by_* commands are deprecated. Please use find_elements() instead\n",
      "  b_t = driver.find_elements_by_xpath(\"//div[@class='_2WkVRV']\")\n"
     ]
    },
    {
     "data": {
      "text/plain": [
       "[<selenium.webdriver.remote.webelement.WebElement (session=\"2bb0000b21ccbd43019116734fbee0cb\", element=\"2b6175fc-a7bd-4173-ad05-4a8b0907ab17\")>,\n",
       " <selenium.webdriver.remote.webelement.WebElement (session=\"2bb0000b21ccbd43019116734fbee0cb\", element=\"c17d1a0e-4a36-4a93-b17a-74c5c766dce2\")>,\n",
       " <selenium.webdriver.remote.webelement.WebElement (session=\"2bb0000b21ccbd43019116734fbee0cb\", element=\"f71ab7a6-401e-4a80-9bd1-bdd9cf75f177\")>,\n",
       " <selenium.webdriver.remote.webelement.WebElement (session=\"2bb0000b21ccbd43019116734fbee0cb\", element=\"549b1925-bd5b-4813-ad6d-12f61470eb9b\")>]"
      ]
     },
     "execution_count": 217,
     "metadata": {},
     "output_type": "execute_result"
    }
   ],
   "source": [
    "#Fetching brand 40-80\n",
    "b_t = driver.find_elements_by_xpath(\"//div[@class='_2WkVRV']\")\n",
    "b_t[0:4]"
   ]
  },
  {
   "cell_type": "code",
   "execution_count": 218,
   "id": "9f6727d0",
   "metadata": {},
   "outputs": [
    {
     "data": {
      "text/plain": [
       "['Furo', \"Neeman's\", 'ASTEROID', 'Chevit']"
      ]
     },
     "execution_count": 218,
     "metadata": {},
     "output_type": "execute_result"
    }
   ],
   "source": [
    "for i in b_t:\n",
    "    bra = i.text\n",
    "    brand.append(bra)\n",
    "brand[0:4]"
   ]
  },
  {
   "cell_type": "code",
   "execution_count": 219,
   "id": "c59d5daa",
   "metadata": {},
   "outputs": [
    {
     "name": "stderr",
     "output_type": "stream",
     "text": [
      "<ipython-input-219-4766f6b549e5>:2: DeprecationWarning: find_elements_by_* commands are deprecated. Please use find_elements() instead\n",
      "  d_t = driver.find_elements_by_xpath(\"//a[@class='IRpwTa']\")\n"
     ]
    },
    {
     "data": {
      "text/plain": [
       "[<selenium.webdriver.remote.webelement.WebElement (session=\"2bb0000b21ccbd43019116734fbee0cb\", element=\"2435e100-45cb-4ff2-8a07-c58cc7f82eb6\")>,\n",
       " <selenium.webdriver.remote.webelement.WebElement (session=\"2bb0000b21ccbd43019116734fbee0cb\", element=\"8c66b22a-c68a-48bd-bcde-9d32ee093af4\")>,\n",
       " <selenium.webdriver.remote.webelement.WebElement (session=\"2bb0000b21ccbd43019116734fbee0cb\", element=\"a4125ff7-fd12-4323-9d3d-68e20e37ea56\")>,\n",
       " <selenium.webdriver.remote.webelement.WebElement (session=\"2bb0000b21ccbd43019116734fbee0cb\", element=\"1c5c52a1-30c2-4151-8150-6a26f43a5ff8\")>]"
      ]
     },
     "execution_count": 219,
     "metadata": {},
     "output_type": "execute_result"
    }
   ],
   "source": [
    "#Fetching description 40-80\n",
    "d_t = driver.find_elements_by_xpath(\"//a[@class='IRpwTa']\")\n",
    "d_t[0:4]"
   ]
  },
  {
   "cell_type": "code",
   "execution_count": 220,
   "id": "f67acdb2",
   "metadata": {},
   "outputs": [],
   "source": [
    "for i in d_t:\n",
    "    if i is not None:\n",
    "        desc.append(i.text)\n",
    "    else:\n",
    "        desc.append('-')"
   ]
  },
  {
   "cell_type": "code",
   "execution_count": 221,
   "id": "6ef4d9d3",
   "metadata": {},
   "outputs": [
    {
     "name": "stderr",
     "output_type": "stream",
     "text": [
      "<ipython-input-221-5a52a4aca88d>:2: DeprecationWarning: find_elements_by_* commands are deprecated. Please use find_elements() instead\n",
      "  p_t = driver.find_elements_by_xpath(\"//div[@class='_30jeq3']\")\n"
     ]
    },
    {
     "data": {
      "text/plain": [
       "[<selenium.webdriver.remote.webelement.WebElement (session=\"2bb0000b21ccbd43019116734fbee0cb\", element=\"e7ee2881-6131-4723-a27b-a06ca05b0c3f\")>,\n",
       " <selenium.webdriver.remote.webelement.WebElement (session=\"2bb0000b21ccbd43019116734fbee0cb\", element=\"b27a7b51-f066-4a02-a40a-192a01f5d37e\")>,\n",
       " <selenium.webdriver.remote.webelement.WebElement (session=\"2bb0000b21ccbd43019116734fbee0cb\", element=\"d3a9c468-453c-4537-a636-3654ce96fc69\")>,\n",
       " <selenium.webdriver.remote.webelement.WebElement (session=\"2bb0000b21ccbd43019116734fbee0cb\", element=\"cd7b23a4-641b-4d39-b2fc-b07847cd52d6\")>]"
      ]
     },
     "execution_count": 221,
     "metadata": {},
     "output_type": "execute_result"
    }
   ],
   "source": [
    "#Fetching price 40-80\n",
    "p_t = driver.find_elements_by_xpath(\"//div[@class='_30jeq3']\")\n",
    "p_t[0:4]"
   ]
  },
  {
   "cell_type": "code",
   "execution_count": 222,
   "id": "aaf991e3",
   "metadata": {},
   "outputs": [],
   "source": [
    "for i in p_t:\n",
    "    if i is not None:\n",
    "        price.append(i.text)\n",
    "    else:\n",
    "        price.append('-')"
   ]
  },
  {
   "cell_type": "code",
   "execution_count": 223,
   "id": "76025840",
   "metadata": {},
   "outputs": [
    {
     "name": "stdout",
     "output_type": "stream",
     "text": [
      "80 64 80\n"
     ]
    }
   ],
   "source": [
    "print(len(brand),len(desc),len(price))"
   ]
  },
  {
   "cell_type": "code",
   "execution_count": 224,
   "id": "07c31cfd",
   "metadata": {},
   "outputs": [
    {
     "name": "stderr",
     "output_type": "stream",
     "text": [
      "<ipython-input-224-1b75ec1aef86>:1: DeprecationWarning: find_element_by_* commands are deprecated. Please use find_element() instead\n",
      "  search_btn2=driver.find_element_by_xpath(\"//a[@class='_1LKTO3'][2]/span[1]\")\n"
     ]
    }
   ],
   "source": [
    "search_btn2=driver.find_element_by_xpath(\"//a[@class='_1LKTO3'][2]/span[1]\")\n",
    "search_btn2.click()"
   ]
  },
  {
   "cell_type": "code",
   "execution_count": 225,
   "id": "54e9d794",
   "metadata": {},
   "outputs": [
    {
     "name": "stderr",
     "output_type": "stream",
     "text": [
      "<ipython-input-225-a1aca12e0ba6>:2: DeprecationWarning: find_elements_by_* commands are deprecated. Please use find_elements() instead\n",
      "  b_t = driver.find_elements_by_xpath(\"//div[@class='_2WkVRV']\")\n"
     ]
    },
    {
     "data": {
      "text/plain": [
       "[<selenium.webdriver.remote.webelement.WebElement (session=\"2bb0000b21ccbd43019116734fbee0cb\", element=\"cf17ea60-481c-4e7f-b2bf-cca286b6d1fc\")>,\n",
       " <selenium.webdriver.remote.webelement.WebElement (session=\"2bb0000b21ccbd43019116734fbee0cb\", element=\"5ffa77aa-9df3-47ec-946c-cb23dd525110\")>,\n",
       " <selenium.webdriver.remote.webelement.WebElement (session=\"2bb0000b21ccbd43019116734fbee0cb\", element=\"7f81993b-9ac0-4f57-b91f-bec94d678305\")>,\n",
       " <selenium.webdriver.remote.webelement.WebElement (session=\"2bb0000b21ccbd43019116734fbee0cb\", element=\"839ff736-d359-437d-bb00-52ec4d745bfa\")>]"
      ]
     },
     "execution_count": 225,
     "metadata": {},
     "output_type": "execute_result"
    }
   ],
   "source": [
    "#Fetching brand 80-120\n",
    "b_t = driver.find_elements_by_xpath(\"//div[@class='_2WkVRV']\")\n",
    "b_t[0:4]"
   ]
  },
  {
   "cell_type": "code",
   "execution_count": 226,
   "id": "1335b64e",
   "metadata": {},
   "outputs": [],
   "source": [
    "for i in b_t:\n",
    "    bra = i.text\n",
    "    brand.append(bra)"
   ]
  },
  {
   "cell_type": "code",
   "execution_count": 236,
   "id": "255b1129",
   "metadata": {},
   "outputs": [
    {
     "name": "stderr",
     "output_type": "stream",
     "text": [
      "<ipython-input-236-7c9199560b41>:2: DeprecationWarning: find_elements_by_* commands are deprecated. Please use find_elements() instead\n",
      "  d_t = driver.find_elements_by_xpath(\"//a[@class='IRpwTa']\")\n"
     ]
    },
    {
     "data": {
      "text/plain": [
       "[<selenium.webdriver.remote.webelement.WebElement (session=\"2bb0000b21ccbd43019116734fbee0cb\", element=\"75a3ac5a-fdb4-48d8-8cd1-192a59b4825c\")>,\n",
       " <selenium.webdriver.remote.webelement.WebElement (session=\"2bb0000b21ccbd43019116734fbee0cb\", element=\"ca8704ec-597d-4616-838d-aabd84328605\")>,\n",
       " <selenium.webdriver.remote.webelement.WebElement (session=\"2bb0000b21ccbd43019116734fbee0cb\", element=\"3c65c688-2f95-4ca8-9c4e-4d4b01ec6f41\")>,\n",
       " <selenium.webdriver.remote.webelement.WebElement (session=\"2bb0000b21ccbd43019116734fbee0cb\", element=\"146a77e6-0777-41ff-a239-8308f7b33dbb\")>]"
      ]
     },
     "execution_count": 236,
     "metadata": {},
     "output_type": "execute_result"
    }
   ],
   "source": [
    "#Fetching description 80-120\n",
    "d_t = driver.find_elements_by_xpath(\"//a[@class='IRpwTa']\")\n",
    "d_t[0:4]"
   ]
  },
  {
   "cell_type": "code",
   "execution_count": 237,
   "id": "b677f263",
   "metadata": {},
   "outputs": [],
   "source": [
    "for i in d_t:\n",
    "    if i is not None:\n",
    "        desc.append(i.text)\n",
    "    else:\n",
    "        desc.append('-')"
   ]
  },
  {
   "cell_type": "code",
   "execution_count": 238,
   "id": "ffee18a4",
   "metadata": {},
   "outputs": [
    {
     "name": "stderr",
     "output_type": "stream",
     "text": [
      "<ipython-input-238-9ed8197b2615>:2: DeprecationWarning: find_elements_by_* commands are deprecated. Please use find_elements() instead\n",
      "  p_t = driver.find_elements_by_xpath(\"//div[@class='_30jeq3']\")\n"
     ]
    },
    {
     "data": {
      "text/plain": [
       "[<selenium.webdriver.remote.webelement.WebElement (session=\"2bb0000b21ccbd43019116734fbee0cb\", element=\"1e086c50-3819-471c-936e-c18ad8423133\")>,\n",
       " <selenium.webdriver.remote.webelement.WebElement (session=\"2bb0000b21ccbd43019116734fbee0cb\", element=\"2fa4f777-4da5-4359-94d8-7b0f6de928f4\")>,\n",
       " <selenium.webdriver.remote.webelement.WebElement (session=\"2bb0000b21ccbd43019116734fbee0cb\", element=\"cf411610-42d7-4400-a2e9-9f05fbf2299f\")>,\n",
       " <selenium.webdriver.remote.webelement.WebElement (session=\"2bb0000b21ccbd43019116734fbee0cb\", element=\"a529c820-281b-4ee6-8b0f-cbc513a6c0bb\")>]"
      ]
     },
     "execution_count": 238,
     "metadata": {},
     "output_type": "execute_result"
    }
   ],
   "source": [
    "#Fetching price 80-120\n",
    "p_t = driver.find_elements_by_xpath(\"//div[@class='_30jeq3']\")\n",
    "p_t[0:4]"
   ]
  },
  {
   "cell_type": "code",
   "execution_count": 239,
   "id": "c42fd6eb",
   "metadata": {},
   "outputs": [],
   "source": [
    "for i in p_t:\n",
    "    if i is not None:\n",
    "        price.append(i.text)\n",
    "    else:\n",
    "        price.append('-')"
   ]
  },
  {
   "cell_type": "code",
   "execution_count": 240,
   "id": "d397c3b0",
   "metadata": {},
   "outputs": [
    {
     "name": "stdout",
     "output_type": "stream",
     "text": [
      "120 120 160\n"
     ]
    }
   ],
   "source": [
    "print(len(brand),len(desc),len(price))"
   ]
  },
  {
   "cell_type": "code",
   "execution_count": 241,
   "id": "2d105256",
   "metadata": {},
   "outputs": [],
   "source": [
    "s_flip=pd.DataFrame({})\n",
    "s_flip['Brand']=brand[:100]\n",
    "s_flip['Description']=desc[:100]\n",
    "s_flip['Prices']=price[:100]"
   ]
  },
  {
   "cell_type": "code",
   "execution_count": 242,
   "id": "2effbcf2",
   "metadata": {},
   "outputs": [
    {
     "data": {
      "text/html": [
       "<div>\n",
       "<style scoped>\n",
       "    .dataframe tbody tr th:only-of-type {\n",
       "        vertical-align: middle;\n",
       "    }\n",
       "\n",
       "    .dataframe tbody tr th {\n",
       "        vertical-align: top;\n",
       "    }\n",
       "\n",
       "    .dataframe thead th {\n",
       "        text-align: right;\n",
       "    }\n",
       "</style>\n",
       "<table border=\"1\" class=\"dataframe\">\n",
       "  <thead>\n",
       "    <tr style=\"text-align: right;\">\n",
       "      <th></th>\n",
       "      <th>Brand</th>\n",
       "      <th>Description</th>\n",
       "      <th>Prices</th>\n",
       "    </tr>\n",
       "  </thead>\n",
       "  <tbody>\n",
       "    <tr>\n",
       "      <th>0</th>\n",
       "      <td>Furo</td>\n",
       "      <td>By Redchief Olive Green Sneaker For Men Sneake...</td>\n",
       "      <td>₹1,559</td>\n",
       "    </tr>\n",
       "    <tr>\n",
       "      <th>1</th>\n",
       "      <td>Neeman's</td>\n",
       "      <td>Original Luxury Branded Fashionable Men's Casu...</td>\n",
       "      <td>₹2,399</td>\n",
       "    </tr>\n",
       "    <tr>\n",
       "      <th>2</th>\n",
       "      <td>ASTEROID</td>\n",
       "      <td>Perfect &amp; Affordable Combo Pack of 02 Pairs Sn...</td>\n",
       "      <td>₹499</td>\n",
       "    </tr>\n",
       "    <tr>\n",
       "      <th>3</th>\n",
       "      <td>Chevit</td>\n",
       "      <td>Sneakers For Men</td>\n",
       "      <td>₹599</td>\n",
       "    </tr>\n",
       "    <tr>\n",
       "      <th>4</th>\n",
       "      <td>Magnolia</td>\n",
       "      <td>Super Stylish &amp; Trendy Combo Pack of 02 Pairs ...</td>\n",
       "      <td>₹398</td>\n",
       "    </tr>\n",
       "    <tr>\n",
       "      <th>...</th>\n",
       "      <td>...</td>\n",
       "      <td>...</td>\n",
       "      <td>...</td>\n",
       "    </tr>\n",
       "    <tr>\n",
       "      <th>95</th>\n",
       "      <td>Levanse</td>\n",
       "      <td>Casual Sneakers White Shoes For Men And Boys S...</td>\n",
       "      <td>₹849</td>\n",
       "    </tr>\n",
       "    <tr>\n",
       "      <th>96</th>\n",
       "      <td>Zsyto</td>\n",
       "      <td>Sneakers For Men</td>\n",
       "      <td>₹328</td>\n",
       "    </tr>\n",
       "    <tr>\n",
       "      <th>97</th>\n",
       "      <td>PEXLO</td>\n",
       "      <td>Men's Sneakers Fashion Lightweight Running Sho...</td>\n",
       "      <td>₹498</td>\n",
       "    </tr>\n",
       "    <tr>\n",
       "      <th>98</th>\n",
       "      <td>Echor</td>\n",
       "      <td>Smart Casuals Canvas Shoes Combo pack of 2 Sne...</td>\n",
       "      <td>₹399</td>\n",
       "    </tr>\n",
       "    <tr>\n",
       "      <th>99</th>\n",
       "      <td>Furo</td>\n",
       "      <td>Plank Eng Knit Slipon IDP Sneakers For Men</td>\n",
       "      <td>₹1,559</td>\n",
       "    </tr>\n",
       "  </tbody>\n",
       "</table>\n",
       "<p>100 rows × 3 columns</p>\n",
       "</div>"
      ],
      "text/plain": [
       "       Brand                                        Description  Prices\n",
       "0       Furo  By Redchief Olive Green Sneaker For Men Sneake...  ₹1,559\n",
       "1   Neeman's  Original Luxury Branded Fashionable Men's Casu...  ₹2,399\n",
       "2   ASTEROID  Perfect & Affordable Combo Pack of 02 Pairs Sn...    ₹499\n",
       "3     Chevit                                   Sneakers For Men    ₹599\n",
       "4   Magnolia  Super Stylish & Trendy Combo Pack of 02 Pairs ...    ₹398\n",
       "..       ...                                                ...     ...\n",
       "95   Levanse  Casual Sneakers White Shoes For Men And Boys S...    ₹849\n",
       "96     Zsyto                                   Sneakers For Men    ₹328\n",
       "97     PEXLO  Men's Sneakers Fashion Lightweight Running Sho...    ₹498\n",
       "98     Echor  Smart Casuals Canvas Shoes Combo pack of 2 Sne...    ₹399\n",
       "99      Furo         Plank Eng Knit Slipon IDP Sneakers For Men  ₹1,559\n",
       "\n",
       "[100 rows x 3 columns]"
      ]
     },
     "execution_count": 242,
     "metadata": {},
     "output_type": "execute_result"
    }
   ],
   "source": [
    "s_flip"
   ]
  },
  {
   "cell_type": "markdown",
   "id": "875fae20",
   "metadata": {},
   "source": [
    "# Q7: Go to the link - https://www.myntra.com/shoes. Set Price filter to “Rs. 6649 to Rs. 13099” , Color filter to “Black”, as shown in the below image.And then scrape First 100 shoes data you get. The data should include “Brand” of the shoes , Short Shoe description, price of the shoe as shown in the below image.  "
   ]
  },
  {
   "cell_type": "code",
   "execution_count": 112,
   "id": "6baf07b8",
   "metadata": {},
   "outputs": [
    {
     "name": "stderr",
     "output_type": "stream",
     "text": [
      "<ipython-input-112-2478a8c83437>:2: DeprecationWarning: executable_path has been deprecated, please pass in a Service object\n",
      "  driver = webdriver.Chrome(r'C:\\Users\\Administrator\\Downloads\\chromedriver_win32\\chromedriver.exe')\n"
     ]
    }
   ],
   "source": [
    "#Connecting to web driver\n",
    "driver = webdriver.Chrome(r'C:\\Users\\Administrator\\Downloads\\chromedriver_win32\\chromedriver.exe')"
   ]
  },
  {
   "cell_type": "code",
   "execution_count": 15,
   "id": "c1dce170",
   "metadata": {},
   "outputs": [],
   "source": [
    "driver.get(\" https://www.myntra.com/shoes\")"
   ]
  },
  {
   "cell_type": "code",
   "execution_count": 16,
   "id": "941a8001",
   "metadata": {},
   "outputs": [],
   "source": [
    "#clicking on price filter\n",
    "price_button = driver.find_element_by_xpath(\"/html/body/div[2]/div/div[1]/main/div[3]/div[1]/section/div/div[5]/ul/li[2]/label/div\")\n",
    "price_button.click()\n",
    "\n",
    "\n",
    "#clicking on black colour\n",
    "black_button = driver.find_element_by_xpath(\"/html/body/div[2]/div/div[1]/main/div[3]/div[1]/section/div/div[6]/ul/li[1]/label/div\")\n",
    "black_button.click()\n"
   ]
  },
  {
   "cell_type": "code",
   "execution_count": 115,
   "id": "f0446f21",
   "metadata": {},
   "outputs": [
    {
     "name": "stderr",
     "output_type": "stream",
     "text": [
      "<ipython-input-115-bf694860d911>:1: DeprecationWarning: find_element_by_* commands are deprecated. Please use find_element() instead\n",
      "  col_button = driver.find_element_by_css_selector('input[value*=\"Black\"]')\n"
     ]
    }
   ],
   "source": [
    "col_button = driver.find_element_by_css_selector('input[value*=\"Black\"]')\n",
    "webdriver.ActionChains(driver).move_to_element(col_button ).click(col_button ).perform()"
   ]
  },
  {
   "cell_type": "code",
   "execution_count": 116,
   "id": "6e106fda",
   "metadata": {},
   "outputs": [],
   "source": [
    "#URL for 1st 50 entries\n",
    "url = \"https://www.myntra.com/shoes?f=Color%3ABlack_36454f&plaEnabled=false&rf=Price%3A6612.0_13075.0_6612.0%20TO%2013075.0\"\n",
    "driver.get(url)"
   ]
  },
  {
   "cell_type": "code",
   "execution_count": 117,
   "id": "7833d01d",
   "metadata": {},
   "outputs": [],
   "source": [
    "brand = []\n",
    "desc = []\n",
    "price =[]"
   ]
  },
  {
   "cell_type": "code",
   "execution_count": 118,
   "id": "fde13e6d",
   "metadata": {},
   "outputs": [
    {
     "name": "stderr",
     "output_type": "stream",
     "text": [
      "<ipython-input-118-03345681008f>:2: DeprecationWarning: find_elements_by_* commands are deprecated. Please use find_elements() instead\n",
      "  b_t = driver.find_elements_by_xpath(\"//h3[@class='product-brand']\")\n"
     ]
    },
    {
     "data": {
      "text/plain": [
       "[<selenium.webdriver.remote.webelement.WebElement (session=\"329f8c6199856316ac03e77645a9c8f4\", element=\"5c178bd9-1197-4c0d-83bf-4ce62286c746\")>,\n",
       " <selenium.webdriver.remote.webelement.WebElement (session=\"329f8c6199856316ac03e77645a9c8f4\", element=\"6cc648c1-ed57-4ed8-8754-19fb9dbe3a52\")>,\n",
       " <selenium.webdriver.remote.webelement.WebElement (session=\"329f8c6199856316ac03e77645a9c8f4\", element=\"fa967361-bd76-4449-bf87-53976483a32a\")>,\n",
       " <selenium.webdriver.remote.webelement.WebElement (session=\"329f8c6199856316ac03e77645a9c8f4\", element=\"2ec5f9cf-c755-46cd-9630-b31c961cdf6d\")>]"
      ]
     },
     "execution_count": 118,
     "metadata": {},
     "output_type": "execute_result"
    }
   ],
   "source": [
    "#Fetching brand 1-40\n",
    "b_t = driver.find_elements_by_xpath(\"//h3[@class='product-brand']\")\n",
    "b_t[0:4]"
   ]
  },
  {
   "cell_type": "code",
   "execution_count": 119,
   "id": "12912498",
   "metadata": {},
   "outputs": [
    {
     "data": {
      "text/plain": [
       "['Nike', 'Nike', 'Nike', 'Nike']"
      ]
     },
     "execution_count": 119,
     "metadata": {},
     "output_type": "execute_result"
    }
   ],
   "source": [
    "for i in b_t:\n",
    "    bra = i.text\n",
    "    brand.append(bra)\n",
    "brand[0:4]"
   ]
  },
  {
   "cell_type": "code",
   "execution_count": 120,
   "id": "7efb2564",
   "metadata": {},
   "outputs": [
    {
     "name": "stderr",
     "output_type": "stream",
     "text": [
      "<ipython-input-120-cec6d03f7d7a>:2: DeprecationWarning: find_elements_by_* commands are deprecated. Please use find_elements() instead\n",
      "  p_t = driver.find_elements_by_xpath(\"//div[@class='product-discountedPrice']|//div[@class='product-price']\")\n"
     ]
    },
    {
     "data": {
      "text/plain": [
       "[<selenium.webdriver.remote.webelement.WebElement (session=\"329f8c6199856316ac03e77645a9c8f4\", element=\"97562268-800f-443c-8f6d-6f64a4736aa5\")>,\n",
       " <selenium.webdriver.remote.webelement.WebElement (session=\"329f8c6199856316ac03e77645a9c8f4\", element=\"d1ed10c4-d71f-4ab3-b4e5-49e3ff305cab\")>,\n",
       " <selenium.webdriver.remote.webelement.WebElement (session=\"329f8c6199856316ac03e77645a9c8f4\", element=\"bd01b5ba-6958-4792-a65f-1be9675c96cd\")>,\n",
       " <selenium.webdriver.remote.webelement.WebElement (session=\"329f8c6199856316ac03e77645a9c8f4\", element=\"16c22833-162e-4d83-a1fc-71dd6cc515ae\")>]"
      ]
     },
     "execution_count": 120,
     "metadata": {},
     "output_type": "execute_result"
    }
   ],
   "source": [
    "#Fetching price 1-500\n",
    "p_t = driver.find_elements_by_xpath(\"//div[@class='product-discountedPrice']|//div[@class='product-price']\")\n",
    "p_t[0:4]"
   ]
  },
  {
   "cell_type": "code",
   "execution_count": 121,
   "id": "60d63c15",
   "metadata": {},
   "outputs": [
    {
     "data": {
      "text/plain": [
       "['Rs. 6795', 'Rs. 6795', 'Rs. 9995', 'Rs. 7195']"
      ]
     },
     "execution_count": 121,
     "metadata": {},
     "output_type": "execute_result"
    }
   ],
   "source": [
    "for i in p_t:\n",
    "    pri = i.text\n",
    "    price.append(pri)\n",
    "price[0:4]"
   ]
  },
  {
   "cell_type": "code",
   "execution_count": 122,
   "id": "11e47ae1",
   "metadata": {},
   "outputs": [
    {
     "name": "stderr",
     "output_type": "stream",
     "text": [
      "<ipython-input-122-2697636bb7d4>:2: DeprecationWarning: find_elements_by_* commands are deprecated. Please use find_elements() instead\n",
      "  d_t = driver.find_elements_by_xpath(\"//h4[@class='product-product']\")\n"
     ]
    },
    {
     "data": {
      "text/plain": [
       "[<selenium.webdriver.remote.webelement.WebElement (session=\"329f8c6199856316ac03e77645a9c8f4\", element=\"6ea99640-c404-4e9c-a83f-23cd90e84008\")>,\n",
       " <selenium.webdriver.remote.webelement.WebElement (session=\"329f8c6199856316ac03e77645a9c8f4\", element=\"fdcee3c5-62a7-4cdf-94ef-9070d80403dd\")>,\n",
       " <selenium.webdriver.remote.webelement.WebElement (session=\"329f8c6199856316ac03e77645a9c8f4\", element=\"21115a00-594d-4ac2-9f6d-8db8362db3ab\")>,\n",
       " <selenium.webdriver.remote.webelement.WebElement (session=\"329f8c6199856316ac03e77645a9c8f4\", element=\"2c9de55f-9d32-482b-b15a-7ab2f924bb60\")>]"
      ]
     },
     "execution_count": 122,
     "metadata": {},
     "output_type": "execute_result"
    }
   ],
   "source": [
    "#Fetching description 1-40\n",
    "d_t = driver.find_elements_by_xpath(\"//h4[@class='product-product']\")\n",
    "d_t[0:4]"
   ]
  },
  {
   "cell_type": "code",
   "execution_count": 123,
   "id": "851fe5ed",
   "metadata": {},
   "outputs": [
    {
     "data": {
      "text/plain": [
       "['Men Flex 2021 Running Shoes',\n",
       " 'Men Flex Run 2021 Running Shoe',\n",
       " 'AIR ZOOM PEGASUS Running Shoes',\n",
       " 'Men Zoom Span 4 Running Shoes']"
      ]
     },
     "execution_count": 123,
     "metadata": {},
     "output_type": "execute_result"
    }
   ],
   "source": [
    "for i in d_t:\n",
    "    des = i.text\n",
    "    desc.append(des)\n",
    "desc[0:4]"
   ]
  },
  {
   "cell_type": "code",
   "execution_count": 124,
   "id": "673bac82",
   "metadata": {},
   "outputs": [
    {
     "name": "stdout",
     "output_type": "stream",
     "text": [
      "50 50 50\n"
     ]
    }
   ],
   "source": [
    "print(len(brand),len(desc),len(price))"
   ]
  },
  {
   "cell_type": "code",
   "execution_count": 125,
   "id": "49db1085",
   "metadata": {},
   "outputs": [
    {
     "name": "stderr",
     "output_type": "stream",
     "text": [
      "<ipython-input-125-3e698365f01d>:2: DeprecationWarning: find_element_by_* commands are deprecated. Please use find_element() instead\n",
      "  search_btn=driver.find_element_by_xpath(\"//li[@class='pagination-next']\")\n"
     ]
    }
   ],
   "source": [
    "#Search button for next 50\n",
    "search_btn=driver.find_element_by_xpath(\"//li[@class='pagination-next']\")\n",
    "search_btn.click()"
   ]
  },
  {
   "cell_type": "code",
   "execution_count": 126,
   "id": "720fea1a",
   "metadata": {},
   "outputs": [
    {
     "name": "stderr",
     "output_type": "stream",
     "text": [
      "<ipython-input-126-fc345b587d29>:2: DeprecationWarning: find_elements_by_* commands are deprecated. Please use find_elements() instead\n",
      "  b_t = driver.find_elements_by_xpath(\"//h3[@class='product-brand']\")\n"
     ]
    },
    {
     "data": {
      "text/plain": [
       "[<selenium.webdriver.remote.webelement.WebElement (session=\"329f8c6199856316ac03e77645a9c8f4\", element=\"55813715-4ecf-4859-a7d9-a99c634e182d\")>,\n",
       " <selenium.webdriver.remote.webelement.WebElement (session=\"329f8c6199856316ac03e77645a9c8f4\", element=\"e20634ab-a5fe-48b0-96dd-b29b98980972\")>,\n",
       " <selenium.webdriver.remote.webelement.WebElement (session=\"329f8c6199856316ac03e77645a9c8f4\", element=\"2b42ec4b-9dc1-43a8-80d7-786bd7c469c1\")>,\n",
       " <selenium.webdriver.remote.webelement.WebElement (session=\"329f8c6199856316ac03e77645a9c8f4\", element=\"a25ccec7-92dc-4cb2-bcf9-62d2079235a8\")>]"
      ]
     },
     "execution_count": 126,
     "metadata": {},
     "output_type": "execute_result"
    }
   ],
   "source": [
    "#Fetching brand 50-100\n",
    "b_t = driver.find_elements_by_xpath(\"//h3[@class='product-brand']\")\n",
    "b_t[0:4]"
   ]
  },
  {
   "cell_type": "code",
   "execution_count": 127,
   "id": "742baa9f",
   "metadata": {},
   "outputs": [],
   "source": [
    "for i in b_t:\n",
    "    bra = i.text\n",
    "    brand.append(bra)"
   ]
  },
  {
   "cell_type": "code",
   "execution_count": 128,
   "id": "4c12b4c4",
   "metadata": {},
   "outputs": [
    {
     "name": "stderr",
     "output_type": "stream",
     "text": [
      "<ipython-input-128-4855544b8661>:2: DeprecationWarning: find_elements_by_* commands are deprecated. Please use find_elements() instead\n",
      "  p_t = driver.find_elements_by_xpath(\"//div[@class='product-discountedPrice']|//div[@class='product-price']\")\n"
     ]
    },
    {
     "data": {
      "text/plain": [
       "[<selenium.webdriver.remote.webelement.WebElement (session=\"329f8c6199856316ac03e77645a9c8f4\", element=\"5ab99e03-819e-42da-a7b4-0592c1b739cf\")>,\n",
       " <selenium.webdriver.remote.webelement.WebElement (session=\"329f8c6199856316ac03e77645a9c8f4\", element=\"a939cb07-a73a-4ffc-a506-35a3b942bef8\")>,\n",
       " <selenium.webdriver.remote.webelement.WebElement (session=\"329f8c6199856316ac03e77645a9c8f4\", element=\"a8a591c2-f59b-4d08-a29e-e4885d97d4e7\")>,\n",
       " <selenium.webdriver.remote.webelement.WebElement (session=\"329f8c6199856316ac03e77645a9c8f4\", element=\"29692a72-569f-499f-b7ad-53b54c956ae5\")>]"
      ]
     },
     "execution_count": 128,
     "metadata": {},
     "output_type": "execute_result"
    }
   ],
   "source": [
    "#Fetching price 50-100\n",
    "p_t = driver.find_elements_by_xpath(\"//div[@class='product-discountedPrice']|//div[@class='product-price']\")\n",
    "p_t[0:4]"
   ]
  },
  {
   "cell_type": "code",
   "execution_count": 129,
   "id": "78aa22dc",
   "metadata": {},
   "outputs": [],
   "source": [
    "for i in p_t:\n",
    "    pri = i.text\n",
    "    price.append(pri)"
   ]
  },
  {
   "cell_type": "code",
   "execution_count": 130,
   "id": "1462338e",
   "metadata": {},
   "outputs": [
    {
     "name": "stderr",
     "output_type": "stream",
     "text": [
      "<ipython-input-130-b3079ed56f1c>:2: DeprecationWarning: find_elements_by_* commands are deprecated. Please use find_elements() instead\n",
      "  d_t = driver.find_elements_by_xpath(\"//h4[@class='product-product']\")\n"
     ]
    },
    {
     "data": {
      "text/plain": [
       "[<selenium.webdriver.remote.webelement.WebElement (session=\"329f8c6199856316ac03e77645a9c8f4\", element=\"b164bb06-8f52-4a1a-83b5-4a6b762cede9\")>,\n",
       " <selenium.webdriver.remote.webelement.WebElement (session=\"329f8c6199856316ac03e77645a9c8f4\", element=\"c049244a-2d68-4654-8762-a33160bd1a61\")>,\n",
       " <selenium.webdriver.remote.webelement.WebElement (session=\"329f8c6199856316ac03e77645a9c8f4\", element=\"d04c001e-b200-48c8-a355-330ed0556a3c\")>,\n",
       " <selenium.webdriver.remote.webelement.WebElement (session=\"329f8c6199856316ac03e77645a9c8f4\", element=\"6141f9ca-bf2c-43ae-b4ec-146e7d1bd411\")>]"
      ]
     },
     "execution_count": 130,
     "metadata": {},
     "output_type": "execute_result"
    }
   ],
   "source": [
    "#Fetching description 50-100\n",
    "d_t = driver.find_elements_by_xpath(\"//h4[@class='product-product']\")\n",
    "d_t[0:4]"
   ]
  },
  {
   "cell_type": "code",
   "execution_count": 131,
   "id": "33f4a800",
   "metadata": {},
   "outputs": [],
   "source": [
    "for i in d_t:\n",
    "    des = i.text\n",
    "    desc.append(des)"
   ]
  },
  {
   "cell_type": "code",
   "execution_count": 132,
   "id": "096b1a4f",
   "metadata": {},
   "outputs": [
    {
     "name": "stdout",
     "output_type": "stream",
     "text": [
      "100 100 100\n"
     ]
    }
   ],
   "source": [
    "print(len(brand),len(desc),len(price))"
   ]
  },
  {
   "cell_type": "code",
   "execution_count": 133,
   "id": "ed4a8ab2",
   "metadata": {},
   "outputs": [],
   "source": [
    "myn_sne=pd.DataFrame({})\n",
    "myn_sne['Brand']=brand\n",
    "myn_sne['Price']=price\n",
    "myn_sne['Description']=desc"
   ]
  },
  {
   "cell_type": "code",
   "execution_count": 134,
   "id": "5e323c54",
   "metadata": {},
   "outputs": [
    {
     "data": {
      "text/html": [
       "<div>\n",
       "<style scoped>\n",
       "    .dataframe tbody tr th:only-of-type {\n",
       "        vertical-align: middle;\n",
       "    }\n",
       "\n",
       "    .dataframe tbody tr th {\n",
       "        vertical-align: top;\n",
       "    }\n",
       "\n",
       "    .dataframe thead th {\n",
       "        text-align: right;\n",
       "    }\n",
       "</style>\n",
       "<table border=\"1\" class=\"dataframe\">\n",
       "  <thead>\n",
       "    <tr style=\"text-align: right;\">\n",
       "      <th></th>\n",
       "      <th>Brand</th>\n",
       "      <th>Price</th>\n",
       "      <th>Description</th>\n",
       "    </tr>\n",
       "  </thead>\n",
       "  <tbody>\n",
       "    <tr>\n",
       "      <th>0</th>\n",
       "      <td>Nike</td>\n",
       "      <td>Rs. 6795</td>\n",
       "      <td>Men Flex 2021 Running Shoes</td>\n",
       "    </tr>\n",
       "    <tr>\n",
       "      <th>1</th>\n",
       "      <td>Nike</td>\n",
       "      <td>Rs. 6795</td>\n",
       "      <td>Men Flex Run 2021 Running Shoe</td>\n",
       "    </tr>\n",
       "    <tr>\n",
       "      <th>2</th>\n",
       "      <td>Nike</td>\n",
       "      <td>Rs. 9995</td>\n",
       "      <td>AIR ZOOM PEGASUS Running Shoes</td>\n",
       "    </tr>\n",
       "    <tr>\n",
       "      <th>3</th>\n",
       "      <td>Nike</td>\n",
       "      <td>Rs. 7195</td>\n",
       "      <td>Men Zoom Span 4 Running Shoes</td>\n",
       "    </tr>\n",
       "    <tr>\n",
       "      <th>4</th>\n",
       "      <td>Puma</td>\n",
       "      <td>Rs. 6799Rs. 7999(15% OFF)</td>\n",
       "      <td>Men FUSE Training Shoes</td>\n",
       "    </tr>\n",
       "    <tr>\n",
       "      <th>...</th>\n",
       "      <td>...</td>\n",
       "      <td>...</td>\n",
       "      <td>...</td>\n",
       "    </tr>\n",
       "    <tr>\n",
       "      <th>95</th>\n",
       "      <td>Saint G</td>\n",
       "      <td>Rs. 8500</td>\n",
       "      <td>Women Leather Heeled Boots</td>\n",
       "    </tr>\n",
       "    <tr>\n",
       "      <th>96</th>\n",
       "      <td>Tommy Hilfiger</td>\n",
       "      <td>Rs. 7999</td>\n",
       "      <td>Women Leather Pumps</td>\n",
       "    </tr>\n",
       "    <tr>\n",
       "      <th>97</th>\n",
       "      <td>Kenneth Cole</td>\n",
       "      <td>Rs. 8790</td>\n",
       "      <td>Men Solid Formal Genuine Leather Derbys</td>\n",
       "    </tr>\n",
       "    <tr>\n",
       "      <th>98</th>\n",
       "      <td>Sole To Soul</td>\n",
       "      <td>Rs. 7590Rs. 7990(5% OFF)</td>\n",
       "      <td>Block Heeled Boots</td>\n",
       "    </tr>\n",
       "    <tr>\n",
       "      <th>99</th>\n",
       "      <td>KIPRUN By Decathlon</td>\n",
       "      <td>Rs. 7006Rs. 7149(2% OFF)</td>\n",
       "      <td>Women Running Shoes</td>\n",
       "    </tr>\n",
       "  </tbody>\n",
       "</table>\n",
       "<p>100 rows × 3 columns</p>\n",
       "</div>"
      ],
      "text/plain": [
       "                  Brand                      Price  \\\n",
       "0                  Nike                   Rs. 6795   \n",
       "1                  Nike                   Rs. 6795   \n",
       "2                  Nike                   Rs. 9995   \n",
       "3                  Nike                   Rs. 7195   \n",
       "4                  Puma  Rs. 6799Rs. 7999(15% OFF)   \n",
       "..                  ...                        ...   \n",
       "95              Saint G                   Rs. 8500   \n",
       "96       Tommy Hilfiger                   Rs. 7999   \n",
       "97         Kenneth Cole                   Rs. 8790   \n",
       "98         Sole To Soul   Rs. 7590Rs. 7990(5% OFF)   \n",
       "99  KIPRUN By Decathlon   Rs. 7006Rs. 7149(2% OFF)   \n",
       "\n",
       "                                Description  \n",
       "0               Men Flex 2021 Running Shoes  \n",
       "1            Men Flex Run 2021 Running Shoe  \n",
       "2            AIR ZOOM PEGASUS Running Shoes  \n",
       "3             Men Zoom Span 4 Running Shoes  \n",
       "4                   Men FUSE Training Shoes  \n",
       "..                                      ...  \n",
       "95               Women Leather Heeled Boots  \n",
       "96                      Women Leather Pumps  \n",
       "97  Men Solid Formal Genuine Leather Derbys  \n",
       "98                       Block Heeled Boots  \n",
       "99                      Women Running Shoes  \n",
       "\n",
       "[100 rows x 3 columns]"
      ]
     },
     "execution_count": 134,
     "metadata": {},
     "output_type": "execute_result"
    }
   ],
   "source": [
    "myn_sne"
   ]
  },
  {
   "cell_type": "markdown",
   "id": "1dbb45be",
   "metadata": {},
   "source": [
    "# Q8: Go to webpage https://www.amazon.in/ Enter “Laptop” in the search field and then click the search icon. Then set CPU Type filter to “Intel Core i7” and “Intel Core i9” as shown in the below image:"
   ]
  },
  {
   "cell_type": "code",
   "execution_count": 97,
   "id": "0c07b7aa",
   "metadata": {},
   "outputs": [],
   "source": [
    "driver.get(' https://www.amazon.in/')"
   ]
  },
  {
   "cell_type": "code",
   "execution_count": 98,
   "id": "60e24606",
   "metadata": {},
   "outputs": [
    {
     "name": "stderr",
     "output_type": "stream",
     "text": [
      "<ipython-input-98-9cd016277ae1>:1: DeprecationWarning: find_element_by_* commands are deprecated. Please use find_element() instead\n",
      "  lap_s=driver.find_element_by_id('twotabsearchtextbox')\n"
     ]
    }
   ],
   "source": [
    "lap_s=driver.find_element_by_id('twotabsearchtextbox')\n",
    "lap_s.send_keys('Laptop')"
   ]
  },
  {
   "cell_type": "code",
   "execution_count": 99,
   "id": "d4ed8db0",
   "metadata": {},
   "outputs": [
    {
     "name": "stderr",
     "output_type": "stream",
     "text": [
      "<ipython-input-99-f78c7ec4e5a6>:1: DeprecationWarning: find_element_by_* commands are deprecated. Please use find_element() instead\n",
      "  search_btn = driver.find_element_by_id('nav-search-submit-button')\n"
     ]
    }
   ],
   "source": [
    "search_btn = driver.find_element_by_id('nav-search-submit-button')\n",
    "search_btn.click()"
   ]
  },
  {
   "cell_type": "code",
   "execution_count": 100,
   "id": "6cfd2ebd",
   "metadata": {},
   "outputs": [
    {
     "name": "stderr",
     "output_type": "stream",
     "text": [
      "<ipython-input-100-3bf92e1ef48d>:1: DeprecationWarning: find_element_by_* commands are deprecated. Please use find_element() instead\n",
      "  isev = driver.find_element_by_xpath('//*[@id=\"p_n_feature_thirteen_browse-bin/12598163031\"]/span/a/div')\n"
     ]
    }
   ],
   "source": [
    "isev = driver.find_element_by_xpath('//*[@id=\"p_n_feature_thirteen_browse-bin/12598163031\"]/span/a/div')\n",
    "titletext=isev.get_attribute('innerHTML').splitlines()[0]\n",
    "isev.click()"
   ]
  },
  {
   "cell_type": "code",
   "execution_count": 101,
   "id": "402ae4b1",
   "metadata": {},
   "outputs": [],
   "source": [
    "brand = []\n",
    "rating = []\n",
    "price =[]"
   ]
  },
  {
   "cell_type": "code",
   "execution_count": 102,
   "id": "eaba3ea5",
   "metadata": {},
   "outputs": [
    {
     "name": "stderr",
     "output_type": "stream",
     "text": [
      "<ipython-input-102-a6ddee04791c>:1: DeprecationWarning: find_elements_by_* commands are deprecated. Please use find_elements() instead\n",
      "  b_t=driver.find_elements_by_xpath(\"//h2[@class='a-size-mini a-spacing-none a-color-base s-line-clamp-2']\")\n"
     ]
    },
    {
     "data": {
      "text/plain": [
       "[<selenium.webdriver.remote.webelement.WebElement (session=\"c10bdbd5b7d7e3513dc310f8c41af8f5\", element=\"0721e95f-c512-494f-bb17-09899e7710a8\")>,\n",
       " <selenium.webdriver.remote.webelement.WebElement (session=\"c10bdbd5b7d7e3513dc310f8c41af8f5\", element=\"8646b1e2-fe00-4465-8a63-81f405a904d8\")>,\n",
       " <selenium.webdriver.remote.webelement.WebElement (session=\"c10bdbd5b7d7e3513dc310f8c41af8f5\", element=\"e709da91-e8cc-4919-8900-786f465e4942\")>,\n",
       " <selenium.webdriver.remote.webelement.WebElement (session=\"c10bdbd5b7d7e3513dc310f8c41af8f5\", element=\"fda436ea-4a87-42f9-baf4-a4a8136bc4f5\")>]"
      ]
     },
     "execution_count": 102,
     "metadata": {},
     "output_type": "execute_result"
    }
   ],
   "source": [
    "b_t=driver.find_elements_by_xpath(\"//h2[@class='a-size-mini a-spacing-none a-color-base s-line-clamp-2']\")\n",
    "b_t[0:4]"
   ]
  },
  {
   "cell_type": "code",
   "execution_count": 103,
   "id": "cf42fc68",
   "metadata": {},
   "outputs": [
    {
     "data": {
      "text/plain": [
       "['Mi Notebook Horizon Edition 14 Intel Core i7-10510U 10th Gen Thin and Light Laptop(8GB/512GB SSD/Windows 10/Nvidia MX350 2GB Graphics/Grey/1.35Kg)(Without Webcam) XMA1904-AF',\n",
       " '(Renewed) Dell Intel Core i7 4th Gen 14 Inch(35.56 cms) 1366x768 HD Laptop (8GB RAM/500GB HDD/Windows 10 Pro/MS Office 2019/Intel Integrated HD Graphics 4600/2.1Kg,Silver) Latitude E6440',\n",
       " 'ASUS TUF Gaming F17 (2021), 17.3-inch (43.94 cms) FHD 144Hz, Intel Core i7-11800H 11th Gen, GeForce RTX 3050 Ti 4GB Graphics, Gaming Laptop (16GB/1TB SSD/Windows 10/Eclipse Gray/2.6 Kg) FX766HE-HX022T',\n",
       " 'Dell 14 (2021) i7-1195G7 2in1 Touch Screen Laptop, 16GB, 512GB SSD, Win 10 + MS Office, 14.0\" (35.56 cms) FHD Display, Backlit KB, FPR + Active Pen, Platinum Silver (Inspiron 5410, D560596WIN9S)']"
      ]
     },
     "execution_count": 103,
     "metadata": {},
     "output_type": "execute_result"
    }
   ],
   "source": [
    "for i in b_t:\n",
    "    bra=i.text\n",
    "    brand.append(bra)\n",
    "    \n",
    "brand[0:4]"
   ]
  },
  {
   "cell_type": "code",
   "execution_count": 104,
   "id": "967fadef",
   "metadata": {},
   "outputs": [
    {
     "name": "stderr",
     "output_type": "stream",
     "text": [
      "<ipython-input-104-b47931e56f92>:1: DeprecationWarning: find_elements_by_* commands are deprecated. Please use find_elements() instead\n",
      "  r_t=driver.find_elements_by_xpath(\"//span[@class='a-icon-alt']\")\n"
     ]
    },
    {
     "data": {
      "text/plain": [
       "[<selenium.webdriver.remote.webelement.WebElement (session=\"c10bdbd5b7d7e3513dc310f8c41af8f5\", element=\"621b9d76-111c-4ddc-9dae-4a121f4a8f01\")>,\n",
       " <selenium.webdriver.remote.webelement.WebElement (session=\"c10bdbd5b7d7e3513dc310f8c41af8f5\", element=\"cf29a9d7-c747-4798-8b51-4d169b56c08f\")>,\n",
       " <selenium.webdriver.remote.webelement.WebElement (session=\"c10bdbd5b7d7e3513dc310f8c41af8f5\", element=\"83114014-8a98-4709-84a8-2034caab003e\")>,\n",
       " <selenium.webdriver.remote.webelement.WebElement (session=\"c10bdbd5b7d7e3513dc310f8c41af8f5\", element=\"9071231e-1c8f-4cc6-ad0c-fecba0549773\")>]"
      ]
     },
     "execution_count": 104,
     "metadata": {},
     "output_type": "execute_result"
    }
   ],
   "source": [
    "r_t=driver.find_elements_by_xpath(\"//span[@class='a-icon-alt']\")\n",
    "r_t[0:4]"
   ]
  },
  {
   "cell_type": "code",
   "execution_count": 105,
   "id": "d5e4dcb6",
   "metadata": {},
   "outputs": [
    {
     "data": {
      "text/plain": [
       "['', '', '', '']"
      ]
     },
     "execution_count": 105,
     "metadata": {},
     "output_type": "execute_result"
    }
   ],
   "source": [
    "for i in r_t:\n",
    "    rat=i.text\n",
    "    rating.append(rat)\n",
    "    \n",
    "rating[:4]"
   ]
  },
  {
   "cell_type": "code",
   "execution_count": 106,
   "id": "785c38a7",
   "metadata": {},
   "outputs": [
    {
     "name": "stderr",
     "output_type": "stream",
     "text": [
      "<ipython-input-106-4a2ec9a02507>:1: DeprecationWarning: find_elements_by_* commands are deprecated. Please use find_elements() instead\n",
      "  p_t=driver.find_elements_by_xpath(\"//span[@class='a-price-whole']\")\n"
     ]
    },
    {
     "data": {
      "text/plain": [
       "[<selenium.webdriver.remote.webelement.WebElement (session=\"c10bdbd5b7d7e3513dc310f8c41af8f5\", element=\"7d0cdc5c-5623-47b8-b552-975f54c2d645\")>,\n",
       " <selenium.webdriver.remote.webelement.WebElement (session=\"c10bdbd5b7d7e3513dc310f8c41af8f5\", element=\"94eebeb4-9faf-4a3d-a658-e780f022ca67\")>,\n",
       " <selenium.webdriver.remote.webelement.WebElement (session=\"c10bdbd5b7d7e3513dc310f8c41af8f5\", element=\"203d1aa6-c807-482c-9175-10257ac46933\")>,\n",
       " <selenium.webdriver.remote.webelement.WebElement (session=\"c10bdbd5b7d7e3513dc310f8c41af8f5\", element=\"ab63b516-f925-4cbe-b36b-05c6285b16f7\")>]"
      ]
     },
     "execution_count": 106,
     "metadata": {},
     "output_type": "execute_result"
    }
   ],
   "source": [
    "p_t=driver.find_elements_by_xpath(\"//span[@class='a-price-whole']\")\n",
    "p_t[0:4]"
   ]
  },
  {
   "cell_type": "code",
   "execution_count": 107,
   "id": "ed1b688f",
   "metadata": {},
   "outputs": [
    {
     "data": {
      "text/plain": [
       "['58,990', '34,899', '1,13,990', '50,990']"
      ]
     },
     "execution_count": 107,
     "metadata": {},
     "output_type": "execute_result"
    }
   ],
   "source": [
    "for i in p_t:\n",
    "    pri=i.text\n",
    "    price.append(pri)\n",
    "price[0:4]"
   ]
  },
  {
   "cell_type": "code",
   "execution_count": 108,
   "id": "335875ee",
   "metadata": {},
   "outputs": [
    {
     "name": "stdout",
     "output_type": "stream",
     "text": [
      "24 27 25\n"
     ]
    }
   ],
   "source": [
    "print(len(brand),len(rating),len(price))"
   ]
  },
  {
   "cell_type": "code",
   "execution_count": 109,
   "id": "61403622",
   "metadata": {},
   "outputs": [],
   "source": [
    "ama_l=pd.DataFrame({})\n",
    "ama_l['Brand']=brand[:20]\n",
    "ama_l['Rating']=rating[:20]\n",
    "ama_l['Price']=price[:20]"
   ]
  },
  {
   "cell_type": "code",
   "execution_count": 110,
   "id": "a2558dd1",
   "metadata": {},
   "outputs": [
    {
     "data": {
      "text/html": [
       "<div>\n",
       "<style scoped>\n",
       "    .dataframe tbody tr th:only-of-type {\n",
       "        vertical-align: middle;\n",
       "    }\n",
       "\n",
       "    .dataframe tbody tr th {\n",
       "        vertical-align: top;\n",
       "    }\n",
       "\n",
       "    .dataframe thead th {\n",
       "        text-align: right;\n",
       "    }\n",
       "</style>\n",
       "<table border=\"1\" class=\"dataframe\">\n",
       "  <thead>\n",
       "    <tr style=\"text-align: right;\">\n",
       "      <th></th>\n",
       "      <th>Brand</th>\n",
       "      <th>Rating</th>\n",
       "      <th>Price</th>\n",
       "    </tr>\n",
       "  </thead>\n",
       "  <tbody>\n",
       "    <tr>\n",
       "      <th>0</th>\n",
       "      <td>Mi Notebook Horizon Edition 14 Intel Core i7-1...</td>\n",
       "      <td></td>\n",
       "      <td>58,990</td>\n",
       "    </tr>\n",
       "    <tr>\n",
       "      <th>1</th>\n",
       "      <td>(Renewed) Dell Intel Core i7 4th Gen 14 Inch(3...</td>\n",
       "      <td></td>\n",
       "      <td>34,899</td>\n",
       "    </tr>\n",
       "    <tr>\n",
       "      <th>2</th>\n",
       "      <td>ASUS TUF Gaming F17 (2021), 17.3-inch (43.94 c...</td>\n",
       "      <td></td>\n",
       "      <td>1,13,990</td>\n",
       "    </tr>\n",
       "    <tr>\n",
       "      <th>3</th>\n",
       "      <td>Dell 14 (2021) i7-1195G7 2in1 Touch Screen Lap...</td>\n",
       "      <td></td>\n",
       "      <td>50,990</td>\n",
       "    </tr>\n",
       "    <tr>\n",
       "      <th>4</th>\n",
       "      <td>HP Pavilion (2021) Intel 11th Gen Core i7 14 i...</td>\n",
       "      <td></td>\n",
       "      <td>88,490</td>\n",
       "    </tr>\n",
       "    <tr>\n",
       "      <th>5</th>\n",
       "      <td>MSI GF75 Thin, Intel i7-10750H, 17.3\" (43.9 cm...</td>\n",
       "      <td></td>\n",
       "      <td>84,990</td>\n",
       "    </tr>\n",
       "    <tr>\n",
       "      <th>6</th>\n",
       "      <td>Lenovo Yoga 7i 11th Gen Intel Core i7-1165G7 1...</td>\n",
       "      <td></td>\n",
       "      <td>77,990</td>\n",
       "    </tr>\n",
       "    <tr>\n",
       "      <th>7</th>\n",
       "      <td>Lenovo ThinkBook 15 Intel 11th Gen Core i7 15....</td>\n",
       "      <td></td>\n",
       "      <td>1,04,890</td>\n",
       "    </tr>\n",
       "    <tr>\n",
       "      <th>8</th>\n",
       "      <td>HP Pavilion 13(2021) 11th Gen Intel Core i7 La...</td>\n",
       "      <td></td>\n",
       "      <td>85,990</td>\n",
       "    </tr>\n",
       "    <tr>\n",
       "      <th>9</th>\n",
       "      <td>Dell Latitude E6430 14.1 Inch Business Laptop ...</td>\n",
       "      <td></td>\n",
       "      <td>91,300</td>\n",
       "    </tr>\n",
       "    <tr>\n",
       "      <th>10</th>\n",
       "      <td>Lenovo Legion 5 10th Gen Intel Core i7-10750H ...</td>\n",
       "      <td></td>\n",
       "      <td>35,999</td>\n",
       "    </tr>\n",
       "    <tr>\n",
       "      <th>11</th>\n",
       "      <td>Acer Nitro 5 11th Gen Intel Core i7-11800H 15....</td>\n",
       "      <td></td>\n",
       "      <td>81,990</td>\n",
       "    </tr>\n",
       "    <tr>\n",
       "      <th>12</th>\n",
       "      <td>ASUS TUF Dash F15 15.6-inch FHD 144Hz, Intel C...</td>\n",
       "      <td></td>\n",
       "      <td>85,990</td>\n",
       "    </tr>\n",
       "    <tr>\n",
       "      <th>13</th>\n",
       "      <td>ASUS TUF Dash F15 (2021) 15.6-inch (39.62 cms)...</td>\n",
       "      <td></td>\n",
       "      <td>85,590</td>\n",
       "    </tr>\n",
       "    <tr>\n",
       "      <th>14</th>\n",
       "      <td>HP Pavilion x360 11th Gen Intel Core i7 14-inc...</td>\n",
       "      <td></td>\n",
       "      <td>93,990</td>\n",
       "    </tr>\n",
       "    <tr>\n",
       "      <th>15</th>\n",
       "      <td>(Renewed) Dell Latitude Laptop E7470 Intel Cor...</td>\n",
       "      <td></td>\n",
       "      <td>84,990</td>\n",
       "    </tr>\n",
       "    <tr>\n",
       "      <th>16</th>\n",
       "      <td>(Renewed) Lenovo IdeaPad S540 11th Gen Intel C...</td>\n",
       "      <td></td>\n",
       "      <td>43,990</td>\n",
       "    </tr>\n",
       "    <tr>\n",
       "      <th>17</th>\n",
       "      <td>(Renewed) Life Digital Laptop 15.6-inch (39.62...</td>\n",
       "      <td></td>\n",
       "      <td>66,291</td>\n",
       "    </tr>\n",
       "    <tr>\n",
       "      <th>18</th>\n",
       "      <td>Lenovo ThinkBook 13s Intel 11th Gen Core i7 13...</td>\n",
       "      <td></td>\n",
       "      <td>34,990</td>\n",
       "    </tr>\n",
       "    <tr>\n",
       "      <th>19</th>\n",
       "      <td>ASUS TUF Dash F15 (2021) 15.6-inch (39.62 cms)...</td>\n",
       "      <td></td>\n",
       "      <td>94,010</td>\n",
       "    </tr>\n",
       "  </tbody>\n",
       "</table>\n",
       "</div>"
      ],
      "text/plain": [
       "                                                Brand Rating     Price\n",
       "0   Mi Notebook Horizon Edition 14 Intel Core i7-1...           58,990\n",
       "1   (Renewed) Dell Intel Core i7 4th Gen 14 Inch(3...           34,899\n",
       "2   ASUS TUF Gaming F17 (2021), 17.3-inch (43.94 c...         1,13,990\n",
       "3   Dell 14 (2021) i7-1195G7 2in1 Touch Screen Lap...           50,990\n",
       "4   HP Pavilion (2021) Intel 11th Gen Core i7 14 i...           88,490\n",
       "5   MSI GF75 Thin, Intel i7-10750H, 17.3\" (43.9 cm...           84,990\n",
       "6   Lenovo Yoga 7i 11th Gen Intel Core i7-1165G7 1...           77,990\n",
       "7   Lenovo ThinkBook 15 Intel 11th Gen Core i7 15....         1,04,890\n",
       "8   HP Pavilion 13(2021) 11th Gen Intel Core i7 La...           85,990\n",
       "9   Dell Latitude E6430 14.1 Inch Business Laptop ...           91,300\n",
       "10  Lenovo Legion 5 10th Gen Intel Core i7-10750H ...           35,999\n",
       "11  Acer Nitro 5 11th Gen Intel Core i7-11800H 15....           81,990\n",
       "12  ASUS TUF Dash F15 15.6-inch FHD 144Hz, Intel C...           85,990\n",
       "13  ASUS TUF Dash F15 (2021) 15.6-inch (39.62 cms)...           85,590\n",
       "14  HP Pavilion x360 11th Gen Intel Core i7 14-inc...           93,990\n",
       "15  (Renewed) Dell Latitude Laptop E7470 Intel Cor...           84,990\n",
       "16  (Renewed) Lenovo IdeaPad S540 11th Gen Intel C...           43,990\n",
       "17  (Renewed) Life Digital Laptop 15.6-inch (39.62...           66,291\n",
       "18  Lenovo ThinkBook 13s Intel 11th Gen Core i7 13...           34,990\n",
       "19  ASUS TUF Dash F15 (2021) 15.6-inch (39.62 cms)...           94,010"
      ]
     },
     "execution_count": 110,
     "metadata": {},
     "output_type": "execute_result"
    }
   ],
   "source": [
    "ama_l"
   ]
  },
  {
   "cell_type": "markdown",
   "id": "6caf27b8",
   "metadata": {},
   "source": [
    "# Q9: Write a python program to scrape data for first 10 job results for Data Scientist Designation in Noida location from https://www.ambitionbox.com/ . You have to scrape company name, No. of days ago when job was posted, Rating of the company. "
   ]
  },
  {
   "cell_type": "code",
   "execution_count": 4,
   "id": "6382bec6",
   "metadata": {},
   "outputs": [
    {
     "name": "stderr",
     "output_type": "stream",
     "text": [
      "<ipython-input-4-2478a8c83437>:2: DeprecationWarning: executable_path has been deprecated, please pass in a Service object\n",
      "  driver = webdriver.Chrome(r'C:\\Users\\Administrator\\Downloads\\chromedriver_win32\\chromedriver.exe')\n"
     ]
    }
   ],
   "source": [
    "#Connecting to web driver\n",
    "driver = webdriver.Chrome(r'C:\\Users\\Administrator\\Downloads\\chromedriver_win32\\chromedriver.exe')"
   ]
  },
  {
   "cell_type": "code",
   "execution_count": 5,
   "id": "d4819989",
   "metadata": {},
   "outputs": [],
   "source": [
    "#url of the webpage to be scraped\n",
    "url = \"https://www.ambitionbox.com/jobs/search?designation=data-scientist&location=Noida\""
   ]
  },
  {
   "cell_type": "code",
   "execution_count": 6,
   "id": "3c2324f2",
   "metadata": {},
   "outputs": [],
   "source": [
    "driver.get(url)"
   ]
  },
  {
   "cell_type": "code",
   "execution_count": 7,
   "id": "9181f60b",
   "metadata": {},
   "outputs": [],
   "source": [
    "#List for storing information\n",
    "company_name = []\n",
    "number_of_days_ago = []\n",
    "rating = []"
   ]
  },
  {
   "cell_type": "code",
   "execution_count": 8,
   "id": "55e9cf61",
   "metadata": {},
   "outputs": [
    {
     "name": "stderr",
     "output_type": "stream",
     "text": [
      "<ipython-input-8-b37ac488b16e>:1: DeprecationWarning: find_elements_by_* commands are deprecated. Please use find_elements() instead\n",
      "  company_name = driver.find_elements_by_xpath(\"//p[@class='company body-medium']\")\n"
     ]
    }
   ],
   "source": [
    "company_name = driver.find_elements_by_xpath(\"//p[@class='company body-medium']\")\n",
    "\n",
    "companies=[]\n",
    "\n",
    "for i in company_name[0:10]:\n",
    "\n",
    "    companies.append(i.text)"
   ]
  },
  {
   "cell_type": "code",
   "execution_count": 9,
   "id": "c81c17fd",
   "metadata": {},
   "outputs": [
    {
     "data": {
      "text/plain": [
       "['Optum Global Solutions (India) Private Limited',\n",
       " 'Steria India Ltd',\n",
       " 'Ameriprise Financial',\n",
       " 'Jubilant Foodworks Limited',\n",
       " 'Optum Global Solutions (India) Private Limited',\n",
       " 'Steria India Ltd',\n",
       " 'Steria India Ltd',\n",
       " 'GI Group',\n",
       " 'Zyoin',\n",
       " 'GI Group']"
      ]
     },
     "execution_count": 9,
     "metadata": {},
     "output_type": "execute_result"
    }
   ],
   "source": [
    "companies"
   ]
  },
  {
   "cell_type": "code",
   "execution_count": 10,
   "id": "e140027c",
   "metadata": {},
   "outputs": [
    {
     "name": "stderr",
     "output_type": "stream",
     "text": [
      "<ipython-input-10-80602f1c3a9b>:1: DeprecationWarning: find_elements_by_* commands are deprecated. Please use find_elements() instead\n",
      "  number_of_days_ago = driver.find_elements_by_xpath(\"//div[@class='other-info']/span[1]\")\n"
     ]
    },
    {
     "data": {
      "text/plain": [
       "['11d ago',\n",
       " '4d ago',\n",
       " '6d ago',\n",
       " '3d ago',\n",
       " '1mon ago',\n",
       " '23d ago',\n",
       " '23d ago',\n",
       " '6hr ago',\n",
       " '5d ago',\n",
       " '3d ago']"
      ]
     },
     "execution_count": 10,
     "metadata": {},
     "output_type": "execute_result"
    }
   ],
   "source": [
    "number_of_days_ago = driver.find_elements_by_xpath(\"//div[@class='other-info']/span[1]\")\n",
    "\n",
    "days=[]\n",
    "\n",
    "for i in number_of_days_ago[0:10]:\n",
    "\n",
    "    days.append(i.text)\n",
    "days"
   ]
  },
  {
   "cell_type": "code",
   "execution_count": 11,
   "id": "29f85e56",
   "metadata": {},
   "outputs": [
    {
     "name": "stderr",
     "output_type": "stream",
     "text": [
      "<ipython-input-11-61fbaad37195>:1: DeprecationWarning: find_elements_by_* commands are deprecated. Please use find_elements() instead\n",
      "  rating = driver.find_elements_by_xpath(\" //div[@class='info']/div/div/a/span\")\n"
     ]
    },
    {
     "data": {
      "text/plain": [
       "['4.1', '4.1', '4.1', '3.9', '4.1', '4.1', '4.1', '3.9', '4.2', '3.9']"
      ]
     },
     "execution_count": 11,
     "metadata": {},
     "output_type": "execute_result"
    }
   ],
   "source": [
    "rating = driver.find_elements_by_xpath(\" //div[@class='info']/div/div/a/span\")\n",
    "ratings=[]\n",
    "\n",
    "for i in rating[0:10]:\n",
    "\n",
    "    ratings.append(i.text)\n",
    "ratings"
   ]
  },
  {
   "cell_type": "code",
   "execution_count": 12,
   "id": "552c8d0d",
   "metadata": {},
   "outputs": [
    {
     "name": "stdout",
     "output_type": "stream",
     "text": [
      "10 10 10\n"
     ]
    }
   ],
   "source": [
    "print(len(company_name),len(rating),len(number_of_days_ago))"
   ]
  },
  {
   "cell_type": "code",
   "execution_count": 13,
   "id": "d0cbbb24",
   "metadata": {},
   "outputs": [],
   "source": [
    "ambition = pd.DataFrame({})\n",
    "ambition['COMPANY NAME']= companies\n",
    "ambition['NO.OF DAYS AGO WHEN JOB WAS POSTED']= days\n",
    "ambition['RATING OF THE COMPANY']= ratings"
   ]
  },
  {
   "cell_type": "code",
   "execution_count": 14,
   "id": "9e891587",
   "metadata": {},
   "outputs": [
    {
     "data": {
      "text/html": [
       "<div>\n",
       "<style scoped>\n",
       "    .dataframe tbody tr th:only-of-type {\n",
       "        vertical-align: middle;\n",
       "    }\n",
       "\n",
       "    .dataframe tbody tr th {\n",
       "        vertical-align: top;\n",
       "    }\n",
       "\n",
       "    .dataframe thead th {\n",
       "        text-align: right;\n",
       "    }\n",
       "</style>\n",
       "<table border=\"1\" class=\"dataframe\">\n",
       "  <thead>\n",
       "    <tr style=\"text-align: right;\">\n",
       "      <th></th>\n",
       "      <th>COMPANY NAME</th>\n",
       "      <th>NO.OF DAYS AGO WHEN JOB WAS POSTED</th>\n",
       "      <th>RATING OF THE COMPANY</th>\n",
       "    </tr>\n",
       "  </thead>\n",
       "  <tbody>\n",
       "    <tr>\n",
       "      <th>0</th>\n",
       "      <td>Optum Global Solutions (India) Private Limited</td>\n",
       "      <td>11d ago</td>\n",
       "      <td>4.1</td>\n",
       "    </tr>\n",
       "    <tr>\n",
       "      <th>1</th>\n",
       "      <td>Steria India Ltd</td>\n",
       "      <td>4d ago</td>\n",
       "      <td>4.1</td>\n",
       "    </tr>\n",
       "    <tr>\n",
       "      <th>2</th>\n",
       "      <td>Ameriprise Financial</td>\n",
       "      <td>6d ago</td>\n",
       "      <td>4.1</td>\n",
       "    </tr>\n",
       "    <tr>\n",
       "      <th>3</th>\n",
       "      <td>Jubilant Foodworks Limited</td>\n",
       "      <td>3d ago</td>\n",
       "      <td>3.9</td>\n",
       "    </tr>\n",
       "    <tr>\n",
       "      <th>4</th>\n",
       "      <td>Optum Global Solutions (India) Private Limited</td>\n",
       "      <td>1mon ago</td>\n",
       "      <td>4.1</td>\n",
       "    </tr>\n",
       "    <tr>\n",
       "      <th>5</th>\n",
       "      <td>Steria India Ltd</td>\n",
       "      <td>23d ago</td>\n",
       "      <td>4.1</td>\n",
       "    </tr>\n",
       "    <tr>\n",
       "      <th>6</th>\n",
       "      <td>Steria India Ltd</td>\n",
       "      <td>23d ago</td>\n",
       "      <td>4.1</td>\n",
       "    </tr>\n",
       "    <tr>\n",
       "      <th>7</th>\n",
       "      <td>GI Group</td>\n",
       "      <td>6hr ago</td>\n",
       "      <td>3.9</td>\n",
       "    </tr>\n",
       "    <tr>\n",
       "      <th>8</th>\n",
       "      <td>Zyoin</td>\n",
       "      <td>5d ago</td>\n",
       "      <td>4.2</td>\n",
       "    </tr>\n",
       "    <tr>\n",
       "      <th>9</th>\n",
       "      <td>GI Group</td>\n",
       "      <td>3d ago</td>\n",
       "      <td>3.9</td>\n",
       "    </tr>\n",
       "  </tbody>\n",
       "</table>\n",
       "</div>"
      ],
      "text/plain": [
       "                                     COMPANY NAME  \\\n",
       "0  Optum Global Solutions (India) Private Limited   \n",
       "1                                Steria India Ltd   \n",
       "2                            Ameriprise Financial   \n",
       "3                      Jubilant Foodworks Limited   \n",
       "4  Optum Global Solutions (India) Private Limited   \n",
       "5                                Steria India Ltd   \n",
       "6                                Steria India Ltd   \n",
       "7                                        GI Group   \n",
       "8                                           Zyoin   \n",
       "9                                        GI Group   \n",
       "\n",
       "  NO.OF DAYS AGO WHEN JOB WAS POSTED RATING OF THE COMPANY  \n",
       "0                            11d ago                   4.1  \n",
       "1                             4d ago                   4.1  \n",
       "2                             6d ago                   4.1  \n",
       "3                             3d ago                   3.9  \n",
       "4                           1mon ago                   4.1  \n",
       "5                            23d ago                   4.1  \n",
       "6                            23d ago                   4.1  \n",
       "7                            6hr ago                   3.9  \n",
       "8                             5d ago                   4.2  \n",
       "9                             3d ago                   3.9  "
      ]
     },
     "execution_count": 14,
     "metadata": {},
     "output_type": "execute_result"
    }
   ],
   "source": [
    "ambition.head(10)"
   ]
  },
  {
   "cell_type": "markdown",
   "id": "e24d828b",
   "metadata": {},
   "source": [
    "# Q10: Write a python program to scrape the salary data for Data Scientist designation from https://www.ambitionbox.com/. You have to scrape Company name, Number of salaries, Average salary, Min salary, Max Salary."
   ]
  },
  {
   "cell_type": "code",
   "execution_count": 15,
   "id": "91383419",
   "metadata": {},
   "outputs": [
    {
     "name": "stderr",
     "output_type": "stream",
     "text": [
      "<ipython-input-15-2478a8c83437>:2: DeprecationWarning: executable_path has been deprecated, please pass in a Service object\n",
      "  driver = webdriver.Chrome(r'C:\\Users\\Administrator\\Downloads\\chromedriver_win32\\chromedriver.exe')\n"
     ]
    }
   ],
   "source": [
    "#Connecting to web driver\n",
    "driver = webdriver.Chrome(r'C:\\Users\\Administrator\\Downloads\\chromedriver_win32\\chromedriver.exe')"
   ]
  },
  {
   "cell_type": "code",
   "execution_count": 16,
   "id": "0d81cfcf",
   "metadata": {},
   "outputs": [],
   "source": [
    "#url of the webpage to be scraped\n",
    "url = \"https://www.ambitionbox.com/salaries\""
   ]
  },
  {
   "cell_type": "code",
   "execution_count": 17,
   "id": "8d2b563d",
   "metadata": {},
   "outputs": [],
   "source": [
    "driver.get(url)"
   ]
  },
  {
   "cell_type": "code",
   "execution_count": 18,
   "id": "26ffa448",
   "metadata": {},
   "outputs": [],
   "source": [
    "#List for storing information\n",
    "company_name = []\n",
    "total_salary= []\n",
    "avg_salary = []\n",
    "min_salary=[]\n",
    "max_salary=[]\n",
    "experience_required =[]"
   ]
  },
  {
   "cell_type": "code",
   "execution_count": 19,
   "id": "340b175a",
   "metadata": {},
   "outputs": [
    {
     "name": "stderr",
     "output_type": "stream",
     "text": [
      "<ipython-input-19-06d6902771df>:1: DeprecationWarning: find_elements_by_* commands are deprecated. Please use find_elements() instead\n",
      "  company_name = driver.find_elements_by_xpath(\"//div[@class='name']/a\")\n"
     ]
    },
    {
     "data": {
      "text/plain": [
       "['Ab Inbev',\n",
       " 'Optum',\n",
       " 'Fractal Analytics',\n",
       " 'Tiger Analytics',\n",
       " 'UnitedHealth',\n",
       " 'Verizon',\n",
       " 'Ganit Business Solutions',\n",
       " 'Deloitte',\n",
       " 'Ernst & Young',\n",
       " 'Ericsson']"
      ]
     },
     "execution_count": 19,
     "metadata": {},
     "output_type": "execute_result"
    }
   ],
   "source": [
    "company_name = driver.find_elements_by_xpath(\"//div[@class='name']/a\")\n",
    "\n",
    "companies=[]\n",
    "\n",
    "for i in company_name[0:10]:\n",
    "\n",
    "    companies.append(i.text)\n",
    "companies"
   ]
  },
  {
   "cell_type": "code",
   "execution_count": 20,
   "id": "e76f48c9",
   "metadata": {},
   "outputs": [
    {
     "name": "stderr",
     "output_type": "stream",
     "text": [
      "<ipython-input-20-9c0a238b21a6>:1: DeprecationWarning: find_elements_by_* commands are deprecated. Please use find_elements() instead\n",
      "  total_salary = driver.find_elements_by_xpath(\"//div[@class='name']/span\")\n"
     ]
    },
    {
     "data": {
      "text/plain": [
       "['based on 10 salaries',\n",
       " 'based on 22 salaries',\n",
       " 'based on 60 salaries',\n",
       " 'based on 24 salaries',\n",
       " 'based on 45 salaries',\n",
       " 'based on 14 salaries',\n",
       " 'based on 12 salaries',\n",
       " 'based on 45 salaries',\n",
       " 'based on 26 salaries',\n",
       " 'based on 43 salaries']"
      ]
     },
     "execution_count": 20,
     "metadata": {},
     "output_type": "execute_result"
    }
   ],
   "source": [
    "total_salary = driver.find_elements_by_xpath(\"//div[@class='name']/span\")\n",
    "\n",
    "salaries=[]\n",
    "\n",
    "for i in total_salary[0:10]:\n",
    "\n",
    "    salaries.append(i.text)\n",
    "salaries"
   ]
  },
  {
   "cell_type": "code",
   "execution_count": 21,
   "id": "1c008bac",
   "metadata": {},
   "outputs": [
    {
     "name": "stderr",
     "output_type": "stream",
     "text": [
      "<ipython-input-21-a022e47d2576>:1: DeprecationWarning: find_elements_by_* commands are deprecated. Please use find_elements() instead\n",
      "  avg_salary = driver.find_elements_by_xpath(\"//p[@class='averageCtc']\")\n"
     ]
    },
    {
     "data": {
      "text/plain": [
       "['₹ 19.4L',\n",
       " '₹ 15.1L',\n",
       " '₹ 14.7L',\n",
       " '₹ 13.4L',\n",
       " '₹ 13.3L',\n",
       " '₹ 12.7L',\n",
       " '₹ 12.4L',\n",
       " '₹ 11.2L',\n",
       " '₹ 11.1L',\n",
       " '₹ 10.9L']"
      ]
     },
     "execution_count": 21,
     "metadata": {},
     "output_type": "execute_result"
    }
   ],
   "source": [
    "avg_salary = driver.find_elements_by_xpath(\"//p[@class='averageCtc']\")\n",
    "\n",
    "average=[]\n",
    "\n",
    "for i in avg_salary[0:10]:\n",
    "\n",
    "    average.append(i.text)\n",
    "average"
   ]
  },
  {
   "cell_type": "code",
   "execution_count": 22,
   "id": "be8e6129",
   "metadata": {},
   "outputs": [
    {
     "name": "stderr",
     "output_type": "stream",
     "text": [
      "<ipython-input-22-bdf4936e1f0b>:1: DeprecationWarning: find_elements_by_* commands are deprecated. Please use find_elements() instead\n",
      "  min_salary = driver.find_elements_by_xpath(\"//div[@class='salary-values']/div[1]\")\n"
     ]
    },
    {
     "data": {
      "text/plain": [
       "['₹ 15.0L',\n",
       " '₹ 11.0L',\n",
       " '₹ 9.0L',\n",
       " '₹ 8.3L',\n",
       " '₹ 7.2L',\n",
       " '₹ 10.0L',\n",
       " '₹ 8.5L',\n",
       " '₹ 6.9L',\n",
       " '₹ 6.0L',\n",
       " '₹ 5.0L']"
      ]
     },
     "execution_count": 22,
     "metadata": {},
     "output_type": "execute_result"
    }
   ],
   "source": [
    "min_salary = driver.find_elements_by_xpath(\"//div[@class='salary-values']/div[1]\")\n",
    "\n",
    "average1=[]\n",
    "\n",
    "for i in min_salary[0:10]:\n",
    "\n",
    "    average1.append(i.text)\n",
    "average1"
   ]
  },
  {
   "cell_type": "code",
   "execution_count": 23,
   "id": "643d08da",
   "metadata": {},
   "outputs": [
    {
     "name": "stderr",
     "output_type": "stream",
     "text": [
      "<ipython-input-23-10a9eeee9f4b>:1: DeprecationWarning: find_elements_by_* commands are deprecated. Please use find_elements() instead\n",
      "  max_salary = driver.find_elements_by_xpath(\"//div[@class='salary-values']/div[2]\")\n"
     ]
    },
    {
     "data": {
      "text/plain": [
       "['₹ 23.0L',\n",
       " '₹ 21.3L',\n",
       " '₹ 20.8L',\n",
       " '₹ 18.5L',\n",
       " '₹ 20.5L',\n",
       " '₹ 21.0L',\n",
       " '₹ 15.0L',\n",
       " '₹ 20.5L',\n",
       " '₹ 20.0L',\n",
       " '₹ 21.5L']"
      ]
     },
     "execution_count": 23,
     "metadata": {},
     "output_type": "execute_result"
    }
   ],
   "source": [
    "max_salary = driver.find_elements_by_xpath(\"//div[@class='salary-values']/div[2]\")\n",
    "\n",
    "average2=[]\n",
    "\n",
    "for i in max_salary[0:10]:\n",
    "\n",
    "    average2.append(i.text)\n",
    "average2"
   ]
  },
  {
   "cell_type": "code",
   "execution_count": 25,
   "id": "42e70e9b",
   "metadata": {},
   "outputs": [
    {
     "name": "stderr",
     "output_type": "stream",
     "text": [
      "<ipython-input-25-1cc0a383c13e>:1: DeprecationWarning: find_elements_by_* commands are deprecated. Please use find_elements() instead\n",
      "  experience_required = driver.find_elements_by_xpath(\"//div[@class='salaries sbold-list-header']\")\n"
     ]
    },
    {
     "data": {
      "text/plain": [
       "['Data Scientist\\n . \\n4 yrs exp',\n",
       " 'Data Scientist\\n . \\n3-4 yrs exp',\n",
       " 'Data Scientist\\n . \\n2-4 yrs exp',\n",
       " 'Data Scientist\\n . \\n3-4 yrs exp',\n",
       " 'Data Scientist\\n . \\n2-4 yrs exp',\n",
       " 'Data Scientist\\n . \\n4 yrs exp',\n",
       " 'Data Scientist\\n . \\n4 yrs exp',\n",
       " 'Data Scientist\\n . \\n2-4 yrs exp',\n",
       " 'Data Scientist\\n . \\n3-4 yrs exp',\n",
       " 'Data Scientist\\n . \\n3-4 yrs exp']"
      ]
     },
     "execution_count": 25,
     "metadata": {},
     "output_type": "execute_result"
    }
   ],
   "source": [
    "experience_required = driver.find_elements_by_xpath(\"//div[@class='salaries sbold-list-header']\")\n",
    "\n",
    "experience=[]\n",
    "\n",
    "for i in experience_required[0:10]:\n",
    "\n",
    "    experience.append(i.text)\n",
    "experience"
   ]
  },
  {
   "cell_type": "code",
   "execution_count": 26,
   "id": "e2d22a70",
   "metadata": {},
   "outputs": [
    {
     "name": "stdout",
     "output_type": "stream",
     "text": [
      "10 10 10 10 10 10\n"
     ]
    }
   ],
   "source": [
    "print(len(company_name),len(min_salary),len(max_salary),len(avg_salary),len(experience_required),len(total_salary))"
   ]
  },
  {
   "cell_type": "code",
   "execution_count": 27,
   "id": "6af7c47c",
   "metadata": {},
   "outputs": [],
   "source": [
    "ambition1 = pd.DataFrame({})\n",
    "ambition1['COMPANY NAME']=companies\n",
    "ambition1['TOTAL NO. OF SALARIES']=salaries\n",
    "ambition1['AVERAGE SALARY']=average\n",
    "ambition1['MINIMUM SALARY']=average1\n",
    "ambition1['MAXIMUM SALARY']=average2\n",
    "ambition1['EXPERIENCE REQUIRED']=experience"
   ]
  },
  {
   "cell_type": "code",
   "execution_count": 28,
   "id": "38012e44",
   "metadata": {},
   "outputs": [
    {
     "data": {
      "text/html": [
       "<div>\n",
       "<style scoped>\n",
       "    .dataframe tbody tr th:only-of-type {\n",
       "        vertical-align: middle;\n",
       "    }\n",
       "\n",
       "    .dataframe tbody tr th {\n",
       "        vertical-align: top;\n",
       "    }\n",
       "\n",
       "    .dataframe thead th {\n",
       "        text-align: right;\n",
       "    }\n",
       "</style>\n",
       "<table border=\"1\" class=\"dataframe\">\n",
       "  <thead>\n",
       "    <tr style=\"text-align: right;\">\n",
       "      <th></th>\n",
       "      <th>COMPANY NAME</th>\n",
       "      <th>TOTAL NO. OF SALARIES</th>\n",
       "      <th>AVERAGE SALARY</th>\n",
       "      <th>MINIMUM SALARY</th>\n",
       "      <th>MAXIMUM SALARY</th>\n",
       "      <th>EXPERIENCE REQUIRED</th>\n",
       "    </tr>\n",
       "  </thead>\n",
       "  <tbody>\n",
       "    <tr>\n",
       "      <th>0</th>\n",
       "      <td>Ab Inbev</td>\n",
       "      <td>based on 10 salaries</td>\n",
       "      <td>₹ 19.4L</td>\n",
       "      <td>₹ 15.0L</td>\n",
       "      <td>₹ 23.0L</td>\n",
       "      <td>Data Scientist\\n . \\n4 yrs exp</td>\n",
       "    </tr>\n",
       "    <tr>\n",
       "      <th>1</th>\n",
       "      <td>Optum</td>\n",
       "      <td>based on 22 salaries</td>\n",
       "      <td>₹ 15.1L</td>\n",
       "      <td>₹ 11.0L</td>\n",
       "      <td>₹ 21.3L</td>\n",
       "      <td>Data Scientist\\n . \\n3-4 yrs exp</td>\n",
       "    </tr>\n",
       "    <tr>\n",
       "      <th>2</th>\n",
       "      <td>Fractal Analytics</td>\n",
       "      <td>based on 60 salaries</td>\n",
       "      <td>₹ 14.7L</td>\n",
       "      <td>₹ 9.0L</td>\n",
       "      <td>₹ 20.8L</td>\n",
       "      <td>Data Scientist\\n . \\n2-4 yrs exp</td>\n",
       "    </tr>\n",
       "    <tr>\n",
       "      <th>3</th>\n",
       "      <td>Tiger Analytics</td>\n",
       "      <td>based on 24 salaries</td>\n",
       "      <td>₹ 13.4L</td>\n",
       "      <td>₹ 8.3L</td>\n",
       "      <td>₹ 18.5L</td>\n",
       "      <td>Data Scientist\\n . \\n3-4 yrs exp</td>\n",
       "    </tr>\n",
       "    <tr>\n",
       "      <th>4</th>\n",
       "      <td>UnitedHealth</td>\n",
       "      <td>based on 45 salaries</td>\n",
       "      <td>₹ 13.3L</td>\n",
       "      <td>₹ 7.2L</td>\n",
       "      <td>₹ 20.5L</td>\n",
       "      <td>Data Scientist\\n . \\n2-4 yrs exp</td>\n",
       "    </tr>\n",
       "    <tr>\n",
       "      <th>5</th>\n",
       "      <td>Verizon</td>\n",
       "      <td>based on 14 salaries</td>\n",
       "      <td>₹ 12.7L</td>\n",
       "      <td>₹ 10.0L</td>\n",
       "      <td>₹ 21.0L</td>\n",
       "      <td>Data Scientist\\n . \\n4 yrs exp</td>\n",
       "    </tr>\n",
       "    <tr>\n",
       "      <th>6</th>\n",
       "      <td>Ganit Business Solutions</td>\n",
       "      <td>based on 12 salaries</td>\n",
       "      <td>₹ 12.4L</td>\n",
       "      <td>₹ 8.5L</td>\n",
       "      <td>₹ 15.0L</td>\n",
       "      <td>Data Scientist\\n . \\n4 yrs exp</td>\n",
       "    </tr>\n",
       "    <tr>\n",
       "      <th>7</th>\n",
       "      <td>Deloitte</td>\n",
       "      <td>based on 45 salaries</td>\n",
       "      <td>₹ 11.2L</td>\n",
       "      <td>₹ 6.9L</td>\n",
       "      <td>₹ 20.5L</td>\n",
       "      <td>Data Scientist\\n . \\n2-4 yrs exp</td>\n",
       "    </tr>\n",
       "    <tr>\n",
       "      <th>8</th>\n",
       "      <td>Ernst &amp; Young</td>\n",
       "      <td>based on 26 salaries</td>\n",
       "      <td>₹ 11.1L</td>\n",
       "      <td>₹ 6.0L</td>\n",
       "      <td>₹ 20.0L</td>\n",
       "      <td>Data Scientist\\n . \\n3-4 yrs exp</td>\n",
       "    </tr>\n",
       "    <tr>\n",
       "      <th>9</th>\n",
       "      <td>Ericsson</td>\n",
       "      <td>based on 43 salaries</td>\n",
       "      <td>₹ 10.9L</td>\n",
       "      <td>₹ 5.0L</td>\n",
       "      <td>₹ 21.5L</td>\n",
       "      <td>Data Scientist\\n . \\n3-4 yrs exp</td>\n",
       "    </tr>\n",
       "  </tbody>\n",
       "</table>\n",
       "</div>"
      ],
      "text/plain": [
       "               COMPANY NAME TOTAL NO. OF SALARIES AVERAGE SALARY  \\\n",
       "0                  Ab Inbev  based on 10 salaries        ₹ 19.4L   \n",
       "1                     Optum  based on 22 salaries        ₹ 15.1L   \n",
       "2         Fractal Analytics  based on 60 salaries        ₹ 14.7L   \n",
       "3           Tiger Analytics  based on 24 salaries        ₹ 13.4L   \n",
       "4              UnitedHealth  based on 45 salaries        ₹ 13.3L   \n",
       "5                   Verizon  based on 14 salaries        ₹ 12.7L   \n",
       "6  Ganit Business Solutions  based on 12 salaries        ₹ 12.4L   \n",
       "7                  Deloitte  based on 45 salaries        ₹ 11.2L   \n",
       "8             Ernst & Young  based on 26 salaries        ₹ 11.1L   \n",
       "9                  Ericsson  based on 43 salaries        ₹ 10.9L   \n",
       "\n",
       "  MINIMUM SALARY MAXIMUM SALARY               EXPERIENCE REQUIRED  \n",
       "0        ₹ 15.0L        ₹ 23.0L    Data Scientist\\n . \\n4 yrs exp  \n",
       "1        ₹ 11.0L        ₹ 21.3L  Data Scientist\\n . \\n3-4 yrs exp  \n",
       "2         ₹ 9.0L        ₹ 20.8L  Data Scientist\\n . \\n2-4 yrs exp  \n",
       "3         ₹ 8.3L        ₹ 18.5L  Data Scientist\\n . \\n3-4 yrs exp  \n",
       "4         ₹ 7.2L        ₹ 20.5L  Data Scientist\\n . \\n2-4 yrs exp  \n",
       "5        ₹ 10.0L        ₹ 21.0L    Data Scientist\\n . \\n4 yrs exp  \n",
       "6         ₹ 8.5L        ₹ 15.0L    Data Scientist\\n . \\n4 yrs exp  \n",
       "7         ₹ 6.9L        ₹ 20.5L  Data Scientist\\n . \\n2-4 yrs exp  \n",
       "8         ₹ 6.0L        ₹ 20.0L  Data Scientist\\n . \\n3-4 yrs exp  \n",
       "9         ₹ 5.0L        ₹ 21.5L  Data Scientist\\n . \\n3-4 yrs exp  "
      ]
     },
     "execution_count": 28,
     "metadata": {},
     "output_type": "execute_result"
    }
   ],
   "source": [
    "ambition1"
   ]
  },
  {
   "cell_type": "code",
   "execution_count": null,
   "id": "2e3a6286",
   "metadata": {},
   "outputs": [],
   "source": []
  }
 ],
 "metadata": {
  "kernelspec": {
   "display_name": "Python 3",
   "language": "python",
   "name": "python3"
  },
  "language_info": {
   "codemirror_mode": {
    "name": "ipython",
    "version": 3
   },
   "file_extension": ".py",
   "mimetype": "text/x-python",
   "name": "python",
   "nbconvert_exporter": "python",
   "pygments_lexer": "ipython3",
   "version": "3.8.8"
  }
 },
 "nbformat": 4,
 "nbformat_minor": 5
}
